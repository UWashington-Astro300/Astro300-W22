{
 "cells": [
  {
   "cell_type": "markdown",
   "metadata": {},
   "source": [
    "<img style=\"float: right;\" src=\"./images/DataReading.png\" width=\"120\"/>\n",
    "\n",
    "# Reading Data\n",
    "\n",
    "* Python has a large number of different ways to read data from external files. \n",
    "* Python supports almost any type of file you can think of, from simple text files to complex binary formats.\n",
    "* In this class we are going to mainly use the package **`pandas`** to load external files into `DataFrames`.\n",
    "* Most of our datafiles will be `csv` files (comma separated values)"
   ]
  },
  {
   "cell_type": "code",
   "execution_count": null,
   "metadata": {
    "collapsed": false,
    "jupyter": {
     "outputs_hidden": false
    }
   },
   "outputs": [],
   "source": [
    "import pandas as pd\n",
    "import numpy as np"
   ]
  },
  {
   "cell_type": "markdown",
   "metadata": {},
   "source": [
    "##### Let us read-in the file: `./Data/Planets.csv`\n",
    "\n",
    "```\n",
    "Name,a,\n",
    "Mercury,0.3871,0.2056\n",
    "Earth,0.9991,0.0166\n",
    "Jupiter,5.2016,0.0490\n",
    "Neptune,29.9769,0.0088\n",
    "```\n",
    "\n",
    "#### Pandas assumes the first row is a list of the column names"
   ]
  },
  {
   "cell_type": "code",
   "execution_count": null,
   "metadata": {
    "collapsed": false,
    "jupyter": {
     "outputs_hidden": false
    }
   },
   "outputs": [],
   "source": [
    "planet_table = pd.read_csv('./Data/Planets.csv')"
   ]
  },
  {
   "cell_type": "code",
   "execution_count": null,
   "metadata": {
    "collapsed": false,
    "jupyter": {
     "outputs_hidden": false
    }
   },
   "outputs": [],
   "source": [
    "planet_table"
   ]
  },
  {
   "cell_type": "markdown",
   "metadata": {},
   "source": [
    "## Renaming columns"
   ]
  },
  {
   "cell_type": "code",
   "execution_count": null,
   "metadata": {
    "collapsed": false,
    "jupyter": {
     "outputs_hidden": false
    }
   },
   "outputs": [],
   "source": [
    "planet_table.rename(columns={'Unnamed: 2': 'ecc'}, inplace=True)\n",
    "\n",
    "planet_table"
   ]
  },
  {
   "cell_type": "code",
   "execution_count": null,
   "metadata": {
    "collapsed": false,
    "jupyter": {
     "outputs_hidden": false
    }
   },
   "outputs": [],
   "source": [
    "planet_table['ecc']"
   ]
  },
  {
   "cell_type": "markdown",
   "metadata": {},
   "source": [
    "## Adding a column - `insert`\n",
    "\n",
    "`.insert(loc, column, value, allow_duplicates = False)`"
   ]
  },
  {
   "cell_type": "markdown",
   "metadata": {},
   "source": [
    "#### perihelion distance [AU] = `semi_major axis * ( 1 - eccentricity )`"
   ]
  },
  {
   "cell_type": "code",
   "execution_count": null,
   "metadata": {
    "collapsed": false,
    "jupyter": {
     "outputs_hidden": false
    }
   },
   "outputs": [],
   "source": [
    "def find_perihelion(semi_major, eccentricity):\n",
    "    result = semi_major * (1.0 - eccentricity)\n",
    "    return result"
   ]
  },
  {
   "cell_type": "markdown",
   "metadata": {},
   "source": [
    "#### Use `DataFrame` columns as arguments to the `find_perihelion` function"
   ]
  },
  {
   "cell_type": "code",
   "execution_count": null,
   "metadata": {
    "collapsed": false,
    "jupyter": {
     "outputs_hidden": false
    }
   },
   "outputs": [],
   "source": [
    "my_perihelion = find_perihelion(planet_table['a'], planet_table['ecc'])"
   ]
  },
  {
   "cell_type": "code",
   "execution_count": null,
   "metadata": {
    "collapsed": false,
    "jupyter": {
     "outputs_hidden": false
    }
   },
   "outputs": [],
   "source": [
    "my_perihelion"
   ]
  },
  {
   "cell_type": "code",
   "execution_count": null,
   "metadata": {
    "collapsed": false,
    "jupyter": {
     "outputs_hidden": false
    }
   },
   "outputs": [],
   "source": [
    "# Add column in position 1 (2nd column)\n",
    "\n",
    "planet_table.insert(1, 'Perihelion', my_perihelion, allow_duplicates = False)"
   ]
  },
  {
   "cell_type": "code",
   "execution_count": null,
   "metadata": {
    "collapsed": false,
    "jupyter": {
     "outputs_hidden": false
    }
   },
   "outputs": [],
   "source": [
    "planet_table"
   ]
  },
  {
   "cell_type": "markdown",
   "metadata": {},
   "source": [
    "## Removing a column - `drop`"
   ]
  },
  {
   "cell_type": "code",
   "execution_count": null,
   "metadata": {
    "collapsed": false,
    "jupyter": {
     "outputs_hidden": false
    }
   },
   "outputs": [],
   "source": [
    "planet_table.drop(columns='Perihelion', inplace = True)"
   ]
  },
  {
   "cell_type": "code",
   "execution_count": null,
   "metadata": {
    "collapsed": false,
    "jupyter": {
     "outputs_hidden": false
    }
   },
   "outputs": [],
   "source": [
    "planet_table"
   ]
  },
  {
   "cell_type": "markdown",
   "metadata": {},
   "source": [
    "## Adding a column (quick) - always to the end of the table"
   ]
  },
  {
   "cell_type": "code",
   "execution_count": null,
   "metadata": {
    "collapsed": false,
    "jupyter": {
     "outputs_hidden": false
    }
   },
   "outputs": [],
   "source": [
    "planet_table['Perihelion'] = my_perihelion"
   ]
  },
  {
   "cell_type": "code",
   "execution_count": null,
   "metadata": {
    "collapsed": false,
    "jupyter": {
     "outputs_hidden": false
    }
   },
   "outputs": [],
   "source": [
    "planet_table"
   ]
  },
  {
   "cell_type": "markdown",
   "metadata": {},
   "source": [
    "## Rearranging columns"
   ]
  },
  {
   "cell_type": "code",
   "execution_count": null,
   "metadata": {
    "collapsed": false,
    "jupyter": {
     "outputs_hidden": false
    }
   },
   "outputs": [],
   "source": [
    "planet_table.columns"
   ]
  },
  {
   "cell_type": "code",
   "execution_count": null,
   "metadata": {
    "collapsed": false,
    "jupyter": {
     "outputs_hidden": false
    }
   },
   "outputs": [],
   "source": [
    "my_new_order = ['a', 'Perihelion', 'Name', 'ecc']"
   ]
  },
  {
   "cell_type": "code",
   "execution_count": null,
   "metadata": {
    "collapsed": false,
    "jupyter": {
     "outputs_hidden": false
    }
   },
   "outputs": [],
   "source": [
    "planet_table = planet_table[my_new_order]"
   ]
  },
  {
   "cell_type": "code",
   "execution_count": null,
   "metadata": {
    "collapsed": false,
    "jupyter": {
     "outputs_hidden": false
    }
   },
   "outputs": [],
   "source": [
    "planet_table"
   ]
  },
  {
   "cell_type": "markdown",
   "metadata": {},
   "source": [
    "## Adding a row `.append`\n",
    "\n",
    "* The new row has to be a `dictionary` or another `DataFrame`\n",
    "* Almost always need to use: `ignore_index=True`"
   ]
  },
  {
   "cell_type": "code",
   "execution_count": null,
   "metadata": {
    "collapsed": false,
    "jupyter": {
     "outputs_hidden": false
    }
   },
   "outputs": [],
   "source": [
    "my_new_row = {'Name': 'Venus',\n",
    "              'a': 0.723,\n",
    "              'ecc': 0.007}"
   ]
  },
  {
   "cell_type": "code",
   "execution_count": null,
   "metadata": {
    "collapsed": false,
    "jupyter": {
     "outputs_hidden": false
    }
   },
   "outputs": [],
   "source": [
    "my_new_row"
   ]
  },
  {
   "cell_type": "code",
   "execution_count": null,
   "metadata": {
    "collapsed": false,
    "jupyter": {
     "outputs_hidden": false
    }
   },
   "outputs": [],
   "source": [
    "planet_table.append(my_new_row, ignore_index=True)"
   ]
  },
  {
   "cell_type": "code",
   "execution_count": null,
   "metadata": {
    "collapsed": false,
    "jupyter": {
     "outputs_hidden": false
    }
   },
   "outputs": [],
   "source": [
    "planet_table"
   ]
  },
  {
   "cell_type": "code",
   "execution_count": null,
   "metadata": {
    "collapsed": false,
    "jupyter": {
     "outputs_hidden": false
    }
   },
   "outputs": [],
   "source": [
    "planet_table = planet_table.append(my_new_row, ignore_index=True)"
   ]
  },
  {
   "cell_type": "code",
   "execution_count": null,
   "metadata": {
    "collapsed": false,
    "jupyter": {
     "outputs_hidden": false
    }
   },
   "outputs": [],
   "source": [
    "planet_table"
   ]
  },
  {
   "cell_type": "markdown",
   "metadata": {},
   "source": [
    "#### `NaN` = Not_A_Number, python's null value"
   ]
  },
  {
   "cell_type": "markdown",
   "metadata": {},
   "source": [
    "----\n",
    "\n",
    "<img style=\"float: right;\" src=\"./images/Lore.jpg\" width=\"200\"/>\n",
    "\n",
    "# Reading (bad) Data\n",
    "\n",
    "## Different Delimiters\n",
    "\n",
    "Some people just want to watch the world burn, so they create datasets where the columns are separted by something other than a comma."
   ]
  },
  {
   "cell_type": "markdown",
   "metadata": {},
   "source": [
    "#### Bad - Using another delimiter like `:`\n",
    "\n",
    "##### `./Data/Planets_Ver2.txt`\n",
    "\n",
    "```\n",
    "Name:a:\n",
    "Mercury:0.3871:0.2056\n",
    "Earth:0.9991:0.0166\n",
    "Jupiter:5.2016:0.0490\n",
    "Neptune:29.9769:0.0088\n",
    "```"
   ]
  },
  {
   "cell_type": "code",
   "execution_count": null,
   "metadata": {
    "collapsed": false,
    "jupyter": {
     "outputs_hidden": false
    }
   },
   "outputs": [],
   "source": [
    "planet_table_2 = pd.read_csv('./Data/Planets_Ver2.txt',\n",
    "                             delimiter = \":\")"
   ]
  },
  {
   "cell_type": "code",
   "execution_count": null,
   "metadata": {
    "collapsed": false,
    "jupyter": {
     "outputs_hidden": false
    }
   },
   "outputs": [],
   "source": [
    "planet_table_2"
   ]
  },
  {
   "cell_type": "markdown",
   "metadata": {},
   "source": [
    "#### Worse - Using whitespace as a delimiter\n",
    "\n",
    "##### `./Data/Planets_Ver3.txt`\n",
    "\n",
    "```\n",
    "Name a \n",
    "Mercury 0.3871 0.2056\n",
    "Earth 0.9991 0.0166\n",
    "Jupiter 5.2016 0.0490\n",
    "Neptune 29.9769 0.0088\n",
    "```"
   ]
  },
  {
   "cell_type": "code",
   "execution_count": null,
   "metadata": {
    "collapsed": false,
    "jupyter": {
     "outputs_hidden": false
    }
   },
   "outputs": [],
   "source": [
    "planet_table_3 = pd.read_csv('./Data/Planets_Ver3.txt',\n",
    "                             delimiter = \" \")"
   ]
  },
  {
   "cell_type": "code",
   "execution_count": null,
   "metadata": {
    "collapsed": false,
    "jupyter": {
     "outputs_hidden": false
    }
   },
   "outputs": [],
   "source": [
    "planet_table_3"
   ]
  },
  {
   "cell_type": "markdown",
   "metadata": {},
   "source": [
    "#### WORST! - Using inconsistent whitespace as a delimiter!\n",
    "\n",
    "##### `./Data/Planets_Ver4.txt`\n",
    "\n",
    "```\n",
    " Name   a \n",
    "    Mercury 0.3871  0.2056\n",
    " Earth 0.9991   0.0166\n",
    "     Jupiter 5.2016  0.0490\n",
    " Neptune    29.9769    0.0088\n",
    "```"
   ]
  },
  {
   "cell_type": "code",
   "execution_count": null,
   "metadata": {
    "collapsed": false,
    "jupyter": {
     "outputs_hidden": false
    }
   },
   "outputs": [],
   "source": [
    "planet_table_4 = pd.read_csv('./Data/Planets_Ver4.txt',\n",
    "                             delimiter = \" \",\n",
    "                             skipinitialspace=True)"
   ]
  },
  {
   "cell_type": "code",
   "execution_count": null,
   "metadata": {
    "collapsed": false,
    "jupyter": {
     "outputs_hidden": false
    }
   },
   "outputs": [],
   "source": [
    "planet_table_4"
   ]
  },
  {
   "cell_type": "markdown",
   "metadata": {},
   "source": [
    "---\n",
    "\n",
    "<img style=\"float: right;\" src=\"./images/MessyData.jpg\" width=\"230\"/>\n",
    "\n",
    "# Messy Data\n",
    "\n",
    "* `pandas` is a good choice when working with messy data files.\n",
    "* In the \"real world\" all data is messy."
   ]
  },
  {
   "cell_type": "markdown",
   "metadata": {},
   "source": [
    "##### Let us read-in the file: `./Data/Messy.csv`\n",
    "\n",
    "```\n",
    "#######################################################\n",
    "#\n",
    "# Col 1 - Name\n",
    "# Col 2 - Size (km)\n",
    "#\n",
    "#######################################################\n",
    "\"Sample 1\",10\n",
    "\"\",23\n",
    ",\n",
    "# A random comment row just because\n",
    "\"Another Sample\",\n",
    "```"
   ]
  },
  {
   "cell_type": "markdown",
   "metadata": {},
   "source": [
    "### This is not going to end well ... (errors galore!)"
   ]
  },
  {
   "cell_type": "code",
   "execution_count": null,
   "metadata": {
    "collapsed": false,
    "jupyter": {
     "outputs_hidden": false
    }
   },
   "outputs": [],
   "source": [
    "messy_table = pd.read_csv('./Data/Messy.csv')"
   ]
  },
  {
   "cell_type": "markdown",
   "metadata": {},
   "source": [
    "### Tell `pandas` about the comments:"
   ]
  },
  {
   "cell_type": "code",
   "execution_count": null,
   "metadata": {
    "collapsed": false,
    "jupyter": {
     "outputs_hidden": false
    }
   },
   "outputs": [],
   "source": [
    "messy_table = pd.read_csv('./Data/Messy.csv', \n",
    "                          comment = \"#\")\n",
    "\n",
    "messy_table"
   ]
  },
  {
   "cell_type": "markdown",
   "metadata": {},
   "source": [
    "## Not quite correct ..."
   ]
  },
  {
   "cell_type": "markdown",
   "metadata": {},
   "source": [
    "### Turn off the header"
   ]
  },
  {
   "cell_type": "code",
   "execution_count": null,
   "metadata": {
    "collapsed": false,
    "jupyter": {
     "outputs_hidden": false
    }
   },
   "outputs": [],
   "source": [
    "messy_table = pd.read_csv('./Data/Messy.csv',\n",
    "                          comment = \"#\",\n",
    "                          header= None)\n",
    "\n",
    "messy_table"
   ]
  },
  {
   "cell_type": "markdown",
   "metadata": {},
   "source": [
    "### Add the column names"
   ]
  },
  {
   "cell_type": "code",
   "execution_count": null,
   "metadata": {},
   "outputs": [],
   "source": [
    "my_column_name = ['Name', 'Size']"
   ]
  },
  {
   "cell_type": "code",
   "execution_count": null,
   "metadata": {
    "collapsed": false,
    "jupyter": {
     "outputs_hidden": false
    }
   },
   "outputs": [],
   "source": [
    "messy_table = pd.read_csv('./Data/Messy.csv',\n",
    "                          comment = \"#\",\n",
    "                          header= None,\n",
    "                          names = my_column_name)\n",
    "\n",
    "messy_table"
   ]
  },
  {
   "cell_type": "markdown",
   "metadata": {},
   "source": [
    "### Deal with the missing data with `.fillna()`"
   ]
  },
  {
   "cell_type": "code",
   "execution_count": null,
   "metadata": {
    "collapsed": false,
    "jupyter": {
     "outputs_hidden": false
    }
   },
   "outputs": [],
   "source": [
    "messy_table['Name'].fillna(\"unknown\", inplace=True)\n",
    "messy_table['Size'].fillna(999.0, inplace=True)\n",
    "\n",
    "messy_table"
   ]
  },
  {
   "cell_type": "markdown",
   "metadata": {},
   "source": [
    "---\n",
    "### Another way to deal with messy data is using `skiprows`"
   ]
  },
  {
   "cell_type": "markdown",
   "metadata": {},
   "source": [
    "<img style=\"float: right;\" src=\"./images/DataHate.gif\" width=\"400\"/>\n",
    "\n",
    "##### Maybe someone hates you and sends you this file: `./Data/RealMessy.csv`\n",
    "\n",
    "```\n",
    "% Col 1 - Name\n",
    "% Col 2 - Size (km)\n",
    "\"Sample 1\",10\n",
    "\"\",23\n",
    ",\n",
    "# A random comment row just because\n",
    "\"Another Sample\",\n",
    "```"
   ]
  },
  {
   "cell_type": "markdown",
   "metadata": {},
   "source": [
    "### We want to ignore rows 0,1, and 5"
   ]
  },
  {
   "cell_type": "code",
   "execution_count": null,
   "metadata": {},
   "outputs": [],
   "source": [
    "messy_table = pd.read_csv('./Data/ReallyMessy.csv',\n",
    "                          skiprows = [0,1,5],\n",
    "                          header= None,\n",
    "                          names = my_column_name)\n",
    "\n",
    "messy_table"
   ]
  },
  {
   "cell_type": "markdown",
   "metadata": {},
   "source": [
    "----\n",
    "\n",
    "# Fixed-Width Data Tables - `pd.read_fwf()`\n",
    "\n",
    "* These types of data tables are **VERY** common in astronomy\n",
    "* The columns have a fixed-widths\n",
    "* Whitespace is used to seperate columns **AND** used within columns\n"
   ]
  },
  {
   "cell_type": "raw",
   "metadata": {},
   "source": [
    "TPHE A      00 30 09\n",
    "PG0029+024  00 31 50\n",
    "92 309      00 53 14"
   ]
  },
  {
   "cell_type": "markdown",
   "metadata": {},
   "source": [
    "#### Trying to read this in with `pd.read_csv()` is a mess!"
   ]
  },
  {
   "cell_type": "code",
   "execution_count": null,
   "metadata": {},
   "outputs": [],
   "source": [
    "standard_table = pd.read_csv('./Data/StdStars.dat',\n",
    "                             header= None,\n",
    "                             delimiter = \" \",\n",
    "                             skipinitialspace=True)"
   ]
  },
  {
   "cell_type": "code",
   "execution_count": null,
   "metadata": {},
   "outputs": [],
   "source": [
    "standard_table"
   ]
  },
  {
   "cell_type": "markdown",
   "metadata": {},
   "source": [
    "### You can set the width of the columns: `widths`\n",
    "\n",
    "<img src=\"./images/Width.png\" width=\"400\"/>"
   ]
  },
  {
   "cell_type": "markdown",
   "metadata": {},
   "source": [
    "#### pandas will trim off surrounding whitespace"
   ]
  },
  {
   "cell_type": "code",
   "execution_count": null,
   "metadata": {},
   "outputs": [],
   "source": [
    "my_column_widths = [12, 3, 3, 2]"
   ]
  },
  {
   "cell_type": "code",
   "execution_count": null,
   "metadata": {},
   "outputs": [],
   "source": [
    "my_column_name = ['Star', 'RAh', 'RAm', 'RAs']"
   ]
  },
  {
   "cell_type": "code",
   "execution_count": null,
   "metadata": {},
   "outputs": [],
   "source": [
    "standard_table = pd.read_fwf('./Data/StdStars.dat', \n",
    "                             header = None, \n",
    "                             widths = my_column_widths, \n",
    "                             names = my_column_name)"
   ]
  },
  {
   "cell_type": "code",
   "execution_count": null,
   "metadata": {},
   "outputs": [],
   "source": [
    "standard_table"
   ]
  },
  {
   "cell_type": "markdown",
   "metadata": {},
   "source": [
    "### You can set the beginning to end of a column: `colspecs`\n",
    "\n",
    "<img src=\"./images/Colspec.png\" width=\"400\"/>\n",
    "\n",
    "`colspecs` uses the same format as a slice\n",
    "\n",
    "* 0-based indexing\n",
    "* First number is the first element you want\n",
    "* Second number is the first element you DON'T want"
   ]
  },
  {
   "cell_type": "code",
   "execution_count": null,
   "metadata": {},
   "outputs": [],
   "source": [
    "my_colspecs = [(0,12), (12,14), (15,17), (18,20)]"
   ]
  },
  {
   "cell_type": "code",
   "execution_count": null,
   "metadata": {},
   "outputs": [],
   "source": [
    "standard_table = pd.read_fwf('./Data/StdStars.dat',\n",
    "                             colspecs = my_colspecs,\n",
    "                             header= None,\n",
    "                             names = my_column_name)"
   ]
  },
  {
   "cell_type": "code",
   "execution_count": null,
   "metadata": {},
   "outputs": [],
   "source": [
    "standard_table"
   ]
  },
  {
   "cell_type": "markdown",
   "metadata": {},
   "source": [
    "----\n",
    "# Real World Example\n",
    "\n",
    "![AJ](./images/StdStars.png)"
   ]
  },
  {
   "cell_type": "markdown",
   "metadata": {},
   "source": [
    "[Landolt Paper SIMBAD page](http://simbad.u-strasbg.fr/simbad/sim-basic?Ident=1992AJ....104..340L) - \n",
    "[(Mirror)](http://simbad.cfa.harvard.edu/simbad/sim-basic?Ident=1992AJ....104..340L)"
   ]
  },
  {
   "cell_type": "raw",
   "metadata": {},
   "source": [
    "table2.dat"
   ]
  },
  {
   "cell_type": "raw",
   "metadata": {},
   "source": [
    "TPHE A      00 30 09 -46 31 22  14.651  0.793  0.380  0.435  0.405  0.841  29  12  0.0028 0.0046 0.0071 0.0019 0.0035 0.0032\n",
    "TPHE B      00 30 16 -46 27 55  12.334  0.405  0.156  0.262  0.271  0.535  29  17  0.0115 0.0026 0.0039 0.0020 0.0019 0.0035\n",
    "TPHE C      00 30 17 -46 32 34  14.376 -0.298 -1.217 -0.148 -0.211 -0.360  39  23  0.0022 0.0024 0.0043 0.0038 0.0133 0.0149"
   ]
  },
  {
   "cell_type": "raw",
   "metadata": {},
   "source": [
    "ReadMe"
   ]
  },
  {
   "cell_type": "raw",
   "metadata": {},
   "source": [
    "Byte-by-byte Description of file: table2.dat\n",
    "--------------------------------------------------------------------------------\n",
    "   Bytes Format Units   Label   Explanations\n",
    "--------------------------------------------------------------------------------\n",
    "   1- 11  A11   ---     Star   *Star Designation\n",
    "  13- 14  I2    h       RAh     Right Ascension J2000 (hours)\n",
    "  16- 17  I2    min     RAm     Right Ascension J2000 (minutes)\n",
    "  19- 20  I2    s       RAs     Right Ascension J2000 (seconds)\n",
    "      22  A1    ---     DE-     Declination J2000 (sign)\n",
    "  23- 24  I2    deg     DEd     Declination J2000 (degrees)\n",
    "  26- 27  I2    arcmin  DEm     Declination J2000 (minutes)\n",
    "  29- 30  I2    arcsec  DEs     Declination J2000 (seconds)\n",
    "  33- 38  F6.3  mag     Vmag    V magnitude\n",
    "  40- 45  F6.3  mag     B-V     B-V color\n",
    "  47- 52  F6.3  mag     U-B     U-B color\n",
    "  54- 59  F6.3  mag     V-R     V-R color\n",
    "  61- 66  F6.3  mag     R-I     R-I color\n",
    "  68- 73  F6.3  mag     V-I     V-I color\n",
    "  75- 77  I3    ---   o_Vmag    Number of observations\n",
    "  79- 81  I3    ---     Nd      Number of nights\n",
    "  84- 89  F6.4  mag   e_Vmag    Mean error of the Mean Vmag\n",
    "  91- 96  F6.4  mag   e_B-V     Mean error of the Mean (B-V)\n",
    "  98-103  F6.4  mag   e_U-B     Mean error of the Mean (U-B)\n",
    " 105-110  F6.4  mag   e_V-R     Mean error of the Mean (V-R)\n",
    " 112-117  F6.4  mag   e_R-I     Mean error of the Mean (R-I)\n",
    " 119-124  F6.4  mag   e_V-I     Mean error of the Mean (V-I)\n",
    "--------------------------------------------------------------------------------"
   ]
  },
  {
   "cell_type": "markdown",
   "metadata": {},
   "source": [
    "#### Set the column names"
   ]
  },
  {
   "cell_type": "code",
   "execution_count": null,
   "metadata": {},
   "outputs": [],
   "source": [
    "my_column_name = ['Star', \n",
    "                  'RAh', 'RAm','RAs',\n",
    "                  'DEd', 'DEm','DEs',\n",
    "                  'Vmag', 'B-V', 'U-B', 'V-R', 'R-I', 'V-I',\n",
    "                  'o_Vmag', 'Nd',\n",
    "                  'e_Vmag', 'e_B-V', 'e_U-B', 'e_V-R', 'e_R-I', 'e_V-I']"
   ]
  },
  {
   "cell_type": "markdown",
   "metadata": {},
   "source": [
    "#### Set the column widths"
   ]
  },
  {
   "cell_type": "code",
   "execution_count": null,
   "metadata": {},
   "outputs": [],
   "source": [
    "my_column_width = [12, 2, 3, 3, 4, 3, 3, 8, 7, 7, 7, 7, 7, 5, 4, 8, 7, 7, 7, 7, 7]"
   ]
  },
  {
   "cell_type": "markdown",
   "metadata": {},
   "source": [
    "#### Set the URL for the data"
   ]
  },
  {
   "cell_type": "code",
   "execution_count": null,
   "metadata": {},
   "outputs": [],
   "source": [
    "my_url = 'https://cdsarc.unistra.fr/ftp/II/183A/table2.dat'\n",
    "\n",
    "#my_url = 'Data/table2.dat'"
   ]
  },
  {
   "cell_type": "code",
   "execution_count": null,
   "metadata": {},
   "outputs": [],
   "source": [
    "standard_table = pd.read_fwf(my_url,\n",
    "                             header=None,\n",
    "                             widths=my_column_width,\n",
    "                             names = my_column_name)"
   ]
  },
  {
   "cell_type": "code",
   "execution_count": null,
   "metadata": {},
   "outputs": [],
   "source": [
    "standard_table.head(10)"
   ]
  },
  {
   "cell_type": "markdown",
   "metadata": {},
   "source": [
    "----\n",
    "\n",
    "<img style=\"float: right;\" src=\"./images/LotsData.jpg\" width=\"230\"/>\n",
    "\n",
    "# Lots of Data\n",
    "\n",
    "* `pandas` will cutoff the display of really long tables\n",
    "* You can change this with:\n",
    "    * `pd.set_option('display.max_rows', # of rows)`\n",
    "    * `pd.set_option('display.max_columns', # of columns)`"
   ]
  },
  {
   "cell_type": "code",
   "execution_count": null,
   "metadata": {
    "collapsed": false,
    "jupyter": {
     "outputs_hidden": false
    }
   },
   "outputs": [],
   "source": [
    "standard_table.info()"
   ]
  },
  {
   "cell_type": "code",
   "execution_count": null,
   "metadata": {},
   "outputs": [],
   "source": [
    "pd.set_option('display.max_columns', 21)"
   ]
  },
  {
   "cell_type": "code",
   "execution_count": null,
   "metadata": {},
   "outputs": [],
   "source": [
    "standard_table.head(10)"
   ]
  },
  {
   "cell_type": "code",
   "execution_count": null,
   "metadata": {
    "collapsed": false,
    "jupyter": {
     "outputs_hidden": false
    }
   },
   "outputs": [],
   "source": [
    "pd.set_option('display.max_rows', 526)"
   ]
  },
  {
   "cell_type": "code",
   "execution_count": null,
   "metadata": {
    "scrolled": true,
    "tags": []
   },
   "outputs": [],
   "source": [
    "standard_table"
   ]
  },
  {
   "cell_type": "markdown",
   "metadata": {
    "jupyter": {
     "outputs_hidden": false
    }
   },
   "source": [
    "----\n",
    "\n",
    "# Bonus Content: Reading HTML tables (Wikipedia)\n",
    "\n",
    "* `pandas` can (sort-of) easily import HTML tables - `read_html()`\n",
    "* This is great for pulling in data from Wikipedia\n",
    "* The results are often far from perfect"
   ]
  },
  {
   "cell_type": "markdown",
   "metadata": {},
   "source": [
    "# [List of impact craters in North America](https://en.wikipedia.org/wiki/List_of_impact_craters_in_North_America)\n",
    "\n",
    "* There are 4 tables on this page\n",
    "* Plus a bunch of other table-ish-looking content\n",
    "* Let us see how this works out ...."
   ]
  },
  {
   "cell_type": "code",
   "execution_count": null,
   "metadata": {},
   "outputs": [],
   "source": [
    "crater_wiki = 'https://en.wikipedia.org/wiki/List_of_impact_craters_in_North_America'"
   ]
  },
  {
   "cell_type": "code",
   "execution_count": null,
   "metadata": {},
   "outputs": [],
   "source": [
    "crater_table = pd.read_html(crater_wiki)"
   ]
  },
  {
   "cell_type": "markdown",
   "metadata": {},
   "source": [
    "### What did we get?"
   ]
  },
  {
   "cell_type": "code",
   "execution_count": null,
   "metadata": {},
   "outputs": [],
   "source": [
    "type(crater_table)"
   ]
  },
  {
   "cell_type": "markdown",
   "metadata": {},
   "source": [
    "### A list, close but not a `pandas` DataFrame"
   ]
  },
  {
   "cell_type": "code",
   "execution_count": null,
   "metadata": {},
   "outputs": [],
   "source": [
    "len(crater_table)"
   ]
  },
  {
   "cell_type": "markdown",
   "metadata": {},
   "source": [
    "### And 7 of them. OK, what do we have at index 0?"
   ]
  },
  {
   "cell_type": "code",
   "execution_count": null,
   "metadata": {},
   "outputs": [],
   "source": [
    "crater_table[0]"
   ]
  },
  {
   "cell_type": "markdown",
   "metadata": {},
   "source": [
    "### Garbage"
   ]
  },
  {
   "cell_type": "code",
   "execution_count": null,
   "metadata": {},
   "outputs": [],
   "source": [
    "type(crater_table[0])"
   ]
  },
  {
   "cell_type": "markdown",
   "metadata": {},
   "source": [
    "### ... But is it a DataFrame!"
   ]
  },
  {
   "cell_type": "markdown",
   "metadata": {},
   "source": [
    "### And at index 1?"
   ]
  },
  {
   "cell_type": "code",
   "execution_count": null,
   "metadata": {},
   "outputs": [],
   "source": [
    "crater_table[1]"
   ]
  },
  {
   "cell_type": "markdown",
   "metadata": {},
   "source": [
    "### Sweet! A DataFrame of the first table (Impact Craters in Canada)"
   ]
  },
  {
   "cell_type": "markdown",
   "metadata": {},
   "source": [
    "### Index 2 is the Mexican table"
   ]
  },
  {
   "cell_type": "code",
   "execution_count": null,
   "metadata": {},
   "outputs": [],
   "source": [
    "crater_table[2]"
   ]
  },
  {
   "cell_type": "markdown",
   "metadata": {},
   "source": [
    "### Index 3 is the US Table"
   ]
  },
  {
   "cell_type": "code",
   "execution_count": null,
   "metadata": {},
   "outputs": [],
   "source": [
    "crater_table[3]"
   ]
  },
  {
   "cell_type": "markdown",
   "metadata": {},
   "source": [
    "### Index 4 is the Unconfirmed impact craters"
   ]
  },
  {
   "cell_type": "code",
   "execution_count": null,
   "metadata": {},
   "outputs": [],
   "source": [
    "crater_table[4]"
   ]
  },
  {
   "cell_type": "markdown",
   "metadata": {},
   "source": [
    "### The last two [5 and 6] are garbage"
   ]
  },
  {
   "cell_type": "markdown",
   "metadata": {},
   "source": [
    "### The DataFrames are not perfect, and will need some cleaning, but is great starting point"
   ]
  }
 ],
 "metadata": {
  "anaconda-cloud": {},
  "kernelspec": {
   "display_name": "Python 3 (ipykernel)",
   "language": "python",
   "name": "python3"
  },
  "language_info": {
   "codemirror_mode": {
    "name": "ipython",
    "version": 3
   },
   "file_extension": ".py",
   "mimetype": "text/x-python",
   "name": "python",
   "nbconvert_exporter": "python",
   "pygments_lexer": "ipython3",
   "version": "3.9.7"
  }
 },
 "nbformat": 4,
 "nbformat_minor": 4
}
