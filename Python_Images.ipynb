{
 "cells": [
  {
   "cell_type": "markdown",
   "metadata": {},
   "source": [
    "# Images in Python"
   ]
  },
  {
   "cell_type": "code",
   "execution_count": null,
   "metadata": {
    "collapsed": false,
    "jupyter": {
     "outputs_hidden": false
    }
   },
   "outputs": [],
   "source": [
    "import numpy as np\n",
    "import matplotlib.pyplot as plt"
   ]
  },
  {
   "cell_type": "markdown",
   "metadata": {},
   "source": [
    "### Working with images in python is essentially a visual way of working with 2-d arrays (matrices)"
   ]
  },
  {
   "cell_type": "code",
   "execution_count": null,
   "metadata": {
    "collapsed": false,
    "jupyter": {
     "outputs_hidden": false
    }
   },
   "outputs": [],
   "source": [
    "my_matrix = np.array(\n",
    "[[0, 3, 7, 8, 2, 3],\n",
    " [2, 1, 8, 7, 3, 0],\n",
    " [4, 9, 3, 2, 9, 2],\n",
    " [3, 8, 4, 0, 8, 5],\n",
    " [8, 0, 2, 1, 3, 9],\n",
    " [9, 2, 4, 2, 4, 8]]\n",
    ")"
   ]
  },
  {
   "cell_type": "code",
   "execution_count": null,
   "metadata": {
    "collapsed": false,
    "jupyter": {
     "outputs_hidden": false
    }
   },
   "outputs": [],
   "source": [
    "my_matrix"
   ]
  },
  {
   "cell_type": "markdown",
   "metadata": {},
   "source": [
    "### All of the normal numpy commands work with matrices (of any dimension)"
   ]
  },
  {
   "cell_type": "code",
   "execution_count": null,
   "metadata": {
    "collapsed": false,
    "jupyter": {
     "outputs_hidden": false
    }
   },
   "outputs": [],
   "source": [
    "my_matrix.mean()        # mean of the whole matrix"
   ]
  },
  {
   "cell_type": "markdown",
   "metadata": {},
   "source": [
    "### You can work over just the rows or columns of the matrix\n",
    "\n",
    "* axis = 0 (COLUMNS)\n",
    "* axis = 1 (ROWS)"
   ]
  },
  {
   "cell_type": "code",
   "execution_count": null,
   "metadata": {
    "collapsed": false,
    "jupyter": {
     "outputs_hidden": false
    }
   },
   "outputs": [],
   "source": [
    "my_matrix.mean(axis=0)   # mean of the columns"
   ]
  },
  {
   "cell_type": "code",
   "execution_count": null,
   "metadata": {
    "collapsed": false,
    "jupyter": {
     "outputs_hidden": false
    }
   },
   "outputs": [],
   "source": [
    "my_matrix.mean(axis=0)[0]  # mean of the 0th column"
   ]
  },
  {
   "cell_type": "code",
   "execution_count": null,
   "metadata": {
    "collapsed": false,
    "jupyter": {
     "outputs_hidden": false
    }
   },
   "outputs": [],
   "source": [
    "my_matrix.mean(axis=1)   # mean of the rows"
   ]
  },
  {
   "cell_type": "code",
   "execution_count": null,
   "metadata": {
    "collapsed": false,
    "jupyter": {
     "outputs_hidden": false
    }
   },
   "outputs": [],
   "source": [
    "my_matrix.flatten()      # convert to 1D (useful for some plotting)"
   ]
  },
  {
   "cell_type": "markdown",
   "metadata": {},
   "source": [
    "### Math on matrices/images applies to every value"
   ]
  },
  {
   "cell_type": "code",
   "execution_count": null,
   "metadata": {
    "collapsed": false,
    "jupyter": {
     "outputs_hidden": false
    }
   },
   "outputs": [],
   "source": [
    "another_matrix = my_matrix + 2\n",
    "\n",
    "print(another_matrix)"
   ]
  },
  {
   "cell_type": "markdown",
   "metadata": {},
   "source": [
    "## `.imshow` will display 2-d arrays as images"
   ]
  },
  {
   "cell_type": "code",
   "execution_count": null,
   "metadata": {
    "collapsed": false,
    "jupyter": {
     "outputs_hidden": false
    }
   },
   "outputs": [],
   "source": [
    "plt.style.use('ggplot')\n",
    "plt.rc('axes', grid=False)   # turn off the background grid for images"
   ]
  },
  {
   "cell_type": "code",
   "execution_count": null,
   "metadata": {
    "collapsed": false,
    "jupyter": {
     "outputs_hidden": false
    }
   },
   "outputs": [],
   "source": [
    "plt.imshow(my_matrix, cmap=plt.cm.GnBu);"
   ]
  },
  {
   "cell_type": "markdown",
   "metadata": {},
   "source": [
    "### Show the image represenation with a colorbar"
   ]
  },
  {
   "cell_type": "code",
   "execution_count": null,
   "metadata": {
    "collapsed": false,
    "jupyter": {
     "outputs_hidden": false
    }
   },
   "outputs": [],
   "source": [
    "plt.imshow(my_matrix, cmap=plt.cm.GnBu)\n",
    "plt.colorbar();"
   ]
  },
  {
   "cell_type": "markdown",
   "metadata": {},
   "source": [
    "### Colormap reference: http://matplotlib.org/examples/color/colormaps_reference.html"
   ]
  },
  {
   "cell_type": "code",
   "execution_count": null,
   "metadata": {
    "collapsed": false,
    "jupyter": {
     "outputs_hidden": false
    }
   },
   "outputs": [],
   "source": [
    "fig, ax = plt.subplots(1,5)\n",
    "\n",
    "fig.set_size_inches(16,4)\n",
    "\n",
    "fig.tight_layout()\n",
    "\n",
    "ax[0].imshow(my_matrix, cmap=plt.cm.viridis)\n",
    "ax[0].set_xlabel('viridis', fontsize = 20)\n",
    "\n",
    "ax[1].imshow(my_matrix, cmap=plt.cm.hot)\n",
    "ax[1].set_xlabel('hot', fontsize = 20)\n",
    "\n",
    "ax[2].imshow(my_matrix, cmap=plt.cm.magma)\n",
    "ax[2].set_xlabel('magma', fontsize = 20)\n",
    "\n",
    "ax[3].imshow(my_matrix, cmap=plt.cm.Spectral)\n",
    "ax[3].set_xlabel('Spectral', fontsize = 20)\n",
    "\n",
    "ax[4].imshow(my_matrix, cmap=plt.cm.gray)\n",
    "ax[4].set_xlabel('gray', fontsize = 20);"
   ]
  },
  {
   "cell_type": "markdown",
   "metadata": {},
   "source": [
    "### Images are just arrays so they can be sliced.\n",
    "\n",
    " * The origin is the upper left hand corner `[0,0]`\n",
    " * `[Start_Row:End_Row, Start_Column:End_Column]`\n",
    "   - Start: first element you want\n",
    "   - End: First element you DON'T want\n",
    "   - `:`  is the whole range"
   ]
  },
  {
   "cell_type": "code",
   "execution_count": null,
   "metadata": {
    "collapsed": false,
    "jupyter": {
     "outputs_hidden": false
    }
   },
   "outputs": [],
   "source": [
    "fig, ax = plt.subplots(1,4)\n",
    "fig.set_size_inches(16,4)\n",
    "\n",
    "fig.tight_layout()\n",
    "\n",
    "ax[0].imshow(my_matrix, cmap=plt.cm.GnBu)\n",
    "ax[0].set_xlabel('Original', fontsize = 20)\n",
    "\n",
    "ax[1].imshow(my_matrix[:,0:2], cmap=plt.cm.GnBu)\n",
    "ax[1].set_xlabel('[:,0:2]', fontsize = 20)                         # all rows, 2 columns\n",
    "\n",
    "ax[2].imshow(my_matrix[0:2,:], cmap=plt.cm.GnBu)    # 2 rows, all columns\n",
    "ax[2].set_xlabel('[0:2,:]', fontsize = 20)\n",
    "\n",
    "ax[3].imshow(my_matrix[2:4,2:4], cmap=plt.cm.GnBu);\n",
    "ax[3].set_xlabel('[2:4,2:4]', fontsize = 20) ;                     # center"
   ]
  },
  {
   "cell_type": "markdown",
   "metadata": {},
   "source": [
    "### Images are just arrays so they can be [manipulated](https://docs.scipy.org/doc/numpy-1.13.0/reference/routines.array-manipulation.html)."
   ]
  },
  {
   "cell_type": "code",
   "execution_count": null,
   "metadata": {
    "collapsed": false,
    "jupyter": {
     "outputs_hidden": false
    }
   },
   "outputs": [],
   "source": [
    "fig, ax = plt.subplots(1,5)\n",
    "fig.set_size_inches(16,4)\n",
    "\n",
    "fig.tight_layout()\n",
    "\n",
    "ax[0].imshow(my_matrix, cmap=plt.cm.GnBu)\n",
    "ax[0].set_xlabel('my_matrix', fontsize = 20)\n",
    "\n",
    "ax[1].imshow(np.flip(my_matrix,axis=0), cmap=plt.cm.GnBu)      # axis = 0 (COLUMNS)\n",
    "ax[1].set_xlabel('np.flip(my_matrix,axis=0)', fontsize = 15)\n",
    "\n",
    "ax[2].imshow(np.flip(my_matrix,axis=1), cmap=plt.cm.GnBu)      # axis = 1 (ROWS)\n",
    "ax[2].set_xlabel('np.flip(my_matrix,axis=1)', fontsize = 15)\n",
    "\n",
    "ax[3].imshow(np.rot90(my_matrix), cmap=plt.cm.GnBu)            # Rotate 90 counter-clockwise\n",
    "ax[3].set_xlabel('np.rot90(my_matrix)', fontsize = 15)\n",
    "\n",
    "ax[4].imshow(np.roll(my_matrix,1,axis=0), cmap=plt.cm.GnBu)    # axis = 0 (COLUMNS)\n",
    "ax[4].set_xlabel('np.roll(my_matrix,1,axis=0)', fontsize = 15);"
   ]
  },
  {
   "cell_type": "markdown",
   "metadata": {},
   "source": [
    "---\n",
    "### WARNING! Common image formats DO NOT preserve dynamic range of original data!!\n",
    "- Common image formats: jpg, gif, png, tiff\n",
    "- Common image formats will re-scale your data values to [0:1]\n",
    "- Common image formats are **NOT** suitable for scientific data!"
   ]
  },
  {
   "cell_type": "code",
   "execution_count": null,
   "metadata": {
    "collapsed": false,
    "jupyter": {
     "outputs_hidden": false
    }
   },
   "outputs": [],
   "source": [
    "# Write my_matrix to a PNG file\n",
    "\n",
    "plt.imsave('Square.png', my_matrix, cmap=plt.cm.gray)\n",
    "\n",
    "\n",
    "# Read in the PNG file\n",
    "\n",
    "my_png = plt.imread('Square.png')"
   ]
  },
  {
   "cell_type": "code",
   "execution_count": null,
   "metadata": {
    "collapsed": false,
    "jupyter": {
     "outputs_hidden": false
    }
   },
   "outputs": [],
   "source": [
    "print(f\"The original data has a min = {my_matrix.min():.2f} and a max = {my_matrix.max():.2f}\")\n",
    "print(f\"The PNG file has a min = {my_png.min():.2f} and a max = {my_png.max():.2f}\")"
   ]
  },
  {
   "cell_type": "markdown",
   "metadata": {},
   "source": [
    "---\n",
    "\n",
    "## [FITS file (Flexible Image Transport System)](https://en.wikipedia.org/wiki/FITS)\n",
    "\n",
    "\n",
    "* The data format most widely used within astronomy\n",
    "* Primarily designed to store scientific data sets\n",
    "  * Multidimensional arrays (images)\n",
    "  * 2-dimensional tables organized into rows and columns of information."
   ]
  },
  {
   "cell_type": "code",
   "execution_count": null,
   "metadata": {
    "collapsed": false,
    "jupyter": {
     "outputs_hidden": false
    }
   },
   "outputs": [],
   "source": [
    "import astropy.io.fits as fits"
   ]
  },
  {
   "cell_type": "markdown",
   "metadata": {},
   "source": [
    "## FITS files consist of at least two parts - `Header` and `Data`\n",
    "\n",
    "* A FITS file is comprised of segments called Header/Data Units (HDUs).\n",
    "* The first `[0]` HDU is called the `Primary HDU`.\n",
    "* The primary data array can contain a 1-D spectrum, a 2-D image, or a 3-D data cube.\n",
    "* Every HDU consists of an ASCII formatted `Header Unit`. \n",
    "* Each header unit contains a sequence of fixed-length 80-character keyword (`Cards`)"
   ]
  },
  {
   "cell_type": "code",
   "execution_count": null,
   "metadata": {
    "collapsed": false,
    "jupyter": {
     "outputs_hidden": false
    }
   },
   "outputs": [],
   "source": [
    "data_file = \"./Data/bsg01.fits\"\n",
    "\n",
    "fits.info(data_file)"
   ]
  },
  {
   "cell_type": "code",
   "execution_count": null,
   "metadata": {
    "collapsed": false,
    "jupyter": {
     "outputs_hidden": false
    }
   },
   "outputs": [],
   "source": [
    "image_data   = fits.getdata(data_file, 0)\n",
    "image_header = fits.getheader(data_file, 0)"
   ]
  },
  {
   "cell_type": "code",
   "execution_count": null,
   "metadata": {
    "collapsed": false,
    "jupyter": {
     "outputs_hidden": false
    }
   },
   "outputs": [],
   "source": [
    "image_header"
   ]
  },
  {
   "cell_type": "code",
   "execution_count": null,
   "metadata": {
    "collapsed": false,
    "jupyter": {
     "outputs_hidden": false
    }
   },
   "outputs": [],
   "source": [
    "image_data[0:2]"
   ]
  },
  {
   "cell_type": "code",
   "execution_count": null,
   "metadata": {
    "collapsed": false,
    "jupyter": {
     "outputs_hidden": false
    }
   },
   "outputs": [],
   "source": [
    "print(f\"The image has a shape [height,width] of {image_data.shape}\")"
   ]
  },
  {
   "cell_type": "markdown",
   "metadata": {},
   "source": [
    "## FITS format preserves the full dynamic range of data"
   ]
  },
  {
   "cell_type": "code",
   "execution_count": null,
   "metadata": {
    "collapsed": false,
    "jupyter": {
     "outputs_hidden": false
    }
   },
   "outputs": [],
   "source": [
    "print(f\"The image has a maximum value of {image_data.max():.2f}\")\n",
    "print(f\"The image has a minimum value of {image_data.min():.2f}\")"
   ]
  },
  {
   "cell_type": "code",
   "execution_count": null,
   "metadata": {
    "collapsed": false,
    "jupyter": {
     "outputs_hidden": false
    }
   },
   "outputs": [],
   "source": [
    "fig, ax = plt.subplots(1,2)\n",
    "fig.set_size_inches(12,6)\n",
    "fig.tight_layout()\n",
    "\n",
    "ax[0].imshow(image_data,cmap=plt.cm.gray)\n",
    "ax[0].set_title(\"OK, Boomer!\")\n",
    "\n",
    "ax[1].set_xlabel(\"Pixel Values\")\n",
    "ax[1].set_ylabel(\"Number of Pixels\")\n",
    "ax[1].hist(image_data.flatten(),bins=20);"
   ]
  },
  {
   "cell_type": "markdown",
   "metadata": {},
   "source": [
    "## Just show some values\n",
    "\n",
    "* `vmin =` lowest value\n",
    "* `vmax =` highest value"
   ]
  },
  {
   "cell_type": "code",
   "execution_count": null,
   "metadata": {},
   "outputs": [],
   "source": [
    "fig, ax = plt.subplots(1,2)\n",
    "fig.set_size_inches(12,6)\n",
    "fig.tight_layout()\n",
    "\n",
    "ax[0].imshow(image_data, cmap=plt.cm.gray, vmin = 60, vmax = 101)\n",
    "ax[0].set_title(\"OK, Boomer!\")\n",
    "\n",
    "ax[1].set_xlabel(\"Pixel Values\")\n",
    "ax[1].set_ylabel(\"Number of Pixels\")\n",
    "ax[1].hist(image_data.flatten(),bins=20)\n",
    "ax[1].vlines(60, 0, 50000,\n",
    "          color = 'Navy',\n",
    "          linewidth = 5,\n",
    "          linestyle = '--');"
   ]
  },
  {
   "cell_type": "markdown",
   "metadata": {},
   "source": [
    "## Modifying pixel values"
   ]
  },
  {
   "cell_type": "code",
   "execution_count": null,
   "metadata": {
    "collapsed": false,
    "jupyter": {
     "outputs_hidden": false
    }
   },
   "outputs": [],
   "source": [
    "copy_data = np.copy(image_data)        # make a copy of the data to work with\n",
    "\n",
    "copy_data.min(), copy_data.mean(), copy_data.max()"
   ]
  },
  {
   "cell_type": "markdown",
   "metadata": {},
   "source": [
    "#### Set all pixel_values > 2 * mean pixel_value to pixel_value maximum"
   ]
  },
  {
   "cell_type": "code",
   "execution_count": null,
   "metadata": {
    "collapsed": false,
    "jupyter": {
     "outputs_hidden": false
    }
   },
   "outputs": [],
   "source": [
    "copy_data[copy_data > 2 * copy_data.mean()] = copy_data.max()"
   ]
  },
  {
   "cell_type": "code",
   "execution_count": null,
   "metadata": {
    "collapsed": false,
    "jupyter": {
     "outputs_hidden": false
    }
   },
   "outputs": [],
   "source": [
    "fig, ax = plt.subplots(1,2)\n",
    "\n",
    "fig.set_size_inches(12,6)\n",
    "\n",
    "fig.tight_layout()\n",
    "\n",
    "ax[0].imshow(copy_data,cmap=plt.cm.gray)\n",
    "\n",
    "my_bins = np.arange(0,110,5)\n",
    "\n",
    "ax[1].set_xlabel(\"Pixel Values\")\n",
    "ax[1].set_ylabel(\"Number of Pixels\")\n",
    "ax[1].hist(image_data.flatten(), bins=my_bins)\n",
    "ax[1].hist(copy_data.flatten(), bins=my_bins, \n",
    "           histtype = \"step\", \n",
    "           linewidth = \"4\", \n",
    "           color = \"b\");"
   ]
  },
  {
   "cell_type": "markdown",
   "metadata": {},
   "source": [
    "## You can add and subtract images"
   ]
  },
  {
   "cell_type": "code",
   "execution_count": null,
   "metadata": {
    "collapsed": false,
    "jupyter": {
     "outputs_hidden": false
    }
   },
   "outputs": [],
   "source": [
    "another_image_file = \"./Data/bsg02.fits\"\n",
    "\n",
    "another_image_data = fits.getdata(another_image_file)     # a quick way to just get the data"
   ]
  },
  {
   "cell_type": "code",
   "execution_count": null,
   "metadata": {
    "collapsed": false,
    "jupyter": {
     "outputs_hidden": false
    }
   },
   "outputs": [],
   "source": [
    "fig, ax = plt.subplots(1,2)\n",
    "fig.set_size_inches(8,6)\n",
    "\n",
    "fig.tight_layout(w_pad = 3.0)\n",
    "\n",
    "ax[0].set_title(\"Original Boomer Image\")\n",
    "ax[1].set_title(\"Another Boomer Image\")\n",
    "\n",
    "ax[0].imshow(image_data, cmap=plt.cm.gray)\n",
    "ax[1].imshow(another_image_data, cmap=plt.cm.gray);"
   ]
  },
  {
   "cell_type": "markdown",
   "metadata": {},
   "source": [
    "## The two images above may look the same but they are not!\n",
    "\n",
    "### Subtracting the two images reveals the truth."
   ]
  },
  {
   "cell_type": "code",
   "execution_count": null,
   "metadata": {
    "collapsed": false,
    "jupyter": {
     "outputs_hidden": false
    }
   },
   "outputs": [],
   "source": [
    "real_image = image_data - another_image_data                 # Subtract the images pixel by pixel"
   ]
  },
  {
   "cell_type": "code",
   "execution_count": null,
   "metadata": {
    "collapsed": false,
    "jupyter": {
     "outputs_hidden": false
    }
   },
   "outputs": [],
   "source": [
    "fig, ax = plt.subplots(1,3)\n",
    "fig.set_size_inches(12,6)\n",
    "\n",
    "fig.tight_layout(w_pad = 3.0)\n",
    "\n",
    "ax[0].set_title(\"Original Boomer Image\")\n",
    "ax[1].set_title(\"Another Boomer Image\")\n",
    "ax[2].set_title(\"Real Boomer Image!\")\n",
    "\n",
    "ax[0].imshow(image_data, cmap=plt.cm.gray)\n",
    "ax[1].imshow(another_image_data, cmap=plt.cm.gray);\n",
    "ax[2].imshow(real_image, cmap=plt.cm.gray);"
   ]
  },
  {
   "cell_type": "code",
   "execution_count": null,
   "metadata": {
    "collapsed": false,
    "jupyter": {
     "outputs_hidden": false
    }
   },
   "outputs": [],
   "source": [
    "print(f\"The real image has a maximum value of {real_image.max():.2f}\")\n",
    "print(f\"The real image has a minimum value of {real_image.min():.2f}\")"
   ]
  },
  {
   "cell_type": "markdown",
   "metadata": {},
   "source": [
    "---\n",
    "## FITS Images - An astronomical example"
   ]
  },
  {
   "cell_type": "code",
   "execution_count": null,
   "metadata": {
    "collapsed": false,
    "jupyter": {
     "outputs_hidden": false
    }
   },
   "outputs": [],
   "source": [
    "data_file = \"./Data/M51_Blue.fits\"\n",
    "\n",
    "fits.info(data_file)"
   ]
  },
  {
   "cell_type": "code",
   "execution_count": null,
   "metadata": {
    "collapsed": false,
    "jupyter": {
     "outputs_hidden": false
    }
   },
   "outputs": [],
   "source": [
    "object_data   = fits.getdata(data_file, 0)\n",
    "object_header = fits.getheader(data_file, 0)"
   ]
  },
  {
   "cell_type": "code",
   "execution_count": null,
   "metadata": {},
   "outputs": [],
   "source": [
    "object_header"
   ]
  },
  {
   "cell_type": "code",
   "execution_count": null,
   "metadata": {
    "collapsed": false,
    "jupyter": {
     "outputs_hidden": false
    }
   },
   "outputs": [],
   "source": [
    "print(f\"Image min  = {object_data.min():9.1f}\")\n",
    "print(f\"Image max  = {object_data.max():9.1f}\")\n",
    "print(f\"Image mean = {object_data.mean():9.1f}\")\n",
    "print(f\"Image std  = {object_data.std():9.1f}\")"
   ]
  },
  {
   "cell_type": "markdown",
   "metadata": {},
   "source": [
    "#### Notice the VERY wide range of pixel values (dynamic range)"
   ]
  },
  {
   "cell_type": "code",
   "execution_count": null,
   "metadata": {
    "collapsed": false,
    "jupyter": {
     "outputs_hidden": false
    }
   },
   "outputs": [],
   "source": [
    "fig, ax = plt.subplots(1,2)\n",
    "fig.set_size_inches(12,6)\n",
    "fig.tight_layout(w_pad = 5)\n",
    "\n",
    "ax[0].set_title(\"Object Image\")\n",
    "ax[0].imshow(object_data, cmap=plt.cm.gray)\n",
    "\n",
    "ax[1].set_xlabel(\"Image Pixel Values\")\n",
    "ax[1].set_ylabel(\"Number of Pixels\")\n",
    "ax[1].hist(object_data.flatten(),bins=100);"
   ]
  },
  {
   "cell_type": "markdown",
   "metadata": {},
   "source": [
    "#### Notice the origin is in the upper left corner (the image is upside down)"
   ]
  },
  {
   "cell_type": "code",
   "execution_count": null,
   "metadata": {
    "collapsed": false,
    "jupyter": {
     "outputs_hidden": false
    }
   },
   "outputs": [],
   "source": [
    "fig, ax = plt.subplots(1,2)\n",
    "fig.set_size_inches(12,6)\n",
    "fig.tight_layout(w_pad = 5)\n",
    "\n",
    "ax[0].set_title(\"Object Image\")\n",
    "ax[0].imshow(object_data, cmap=plt.cm.gray, origin = \"lower\")\n",
    "\n",
    "ax[1].set_xlabel(\"Image Pixel Values\")\n",
    "ax[1].set_ylabel(\"Number of Pixels\")\n",
    "ax[1].hist(object_data.flatten(),bins=100);"
   ]
  },
  {
   "cell_type": "markdown",
   "metadata": {},
   "source": [
    "#### Better, the origin is in the lower left corner"
   ]
  },
  {
   "cell_type": "markdown",
   "metadata": {},
   "source": [
    "---\n",
    "\n",
    "### Like most astronomical data, all of the interesting stuff is in a very small percentage of the total pixels in the image."
   ]
  },
  {
   "cell_type": "code",
   "execution_count": null,
   "metadata": {},
   "outputs": [],
   "source": [
    "fig, ax = plt.subplots(1,2)\n",
    "fig.set_size_inches(12,6)\n",
    "fig.tight_layout(w_pad = 5)\n",
    "\n",
    "ax[0].set_title(\"Object Image\")\n",
    "ax[0].imshow(object_data, cmap=plt.cm.gray, origin = \"lower\", vmin = 10000, vmax = 25000)\n",
    "\n",
    "ax[1].set_xlabel(\"Image Pixel Values\")\n",
    "ax[1].set_ylabel(\"Number of Pixels\")\n",
    "\n",
    "ax[1].set_ylim(0,50000)\n",
    "\n",
    "ax[1].hist(object_data.flatten(),bins=100)\n",
    "ax[1].vlines(10000, 0, 50000,\n",
    "          color = 'Navy',\n",
    "          linewidth = 5,\n",
    "          linestyle = '--');"
   ]
  },
  {
   "cell_type": "code",
   "execution_count": null,
   "metadata": {},
   "outputs": [],
   "source": [
    "np.size(object_data)"
   ]
  },
  {
   "cell_type": "code",
   "execution_count": null,
   "metadata": {},
   "outputs": [],
   "source": [
    "np.size(object_data[object_data > 10000])"
   ]
  },
  {
   "cell_type": "code",
   "execution_count": null,
   "metadata": {},
   "outputs": [],
   "source": [
    "np.size(object_data[object_data > 10000]) / np.size(object_data) * 100"
   ]
  },
  {
   "cell_type": "markdown",
   "metadata": {},
   "source": [
    "---\n",
    "## World Coordinate System `WCS`\n",
    "\n",
    "* Most FITS images contain coordinate information\n",
    "* This information is part of the FITS header"
   ]
  },
  {
   "cell_type": "code",
   "execution_count": null,
   "metadata": {
    "collapsed": false,
    "jupyter": {
     "outputs_hidden": false
    }
   },
   "outputs": [],
   "source": [
    "from astropy.wcs import WCS"
   ]
  },
  {
   "cell_type": "code",
   "execution_count": null,
   "metadata": {
    "collapsed": false,
    "jupyter": {
     "outputs_hidden": false
    }
   },
   "outputs": [],
   "source": [
    "my_wcs = WCS(object_header) # Ignore the warning"
   ]
  },
  {
   "cell_type": "code",
   "execution_count": null,
   "metadata": {
    "collapsed": false,
    "jupyter": {
     "outputs_hidden": false
    }
   },
   "outputs": [],
   "source": [
    "my_wcs"
   ]
  },
  {
   "cell_type": "markdown",
   "metadata": {},
   "source": [
    "#### To plot the coordinates on your image you have to use a different version of the `subplot` command\n",
    "\n",
    "* You have to define EACH axes with a `fig.add_subplot()` command"
   ]
  },
  {
   "cell_type": "code",
   "execution_count": null,
   "metadata": {
    "collapsed": false,
    "jupyter": {
     "outputs_hidden": false
    }
   },
   "outputs": [],
   "source": [
    "fig = plt.figure()\n",
    "\n",
    "ax1 = fig.add_subplot(121, projection = my_wcs)\n",
    "ax2 = fig.add_subplot(122)\n",
    "\n",
    "fig.set_size_inches(12,6)\n",
    "fig.tight_layout(w_pad = 6)\n",
    "\n",
    "ax1.set_title(\"Object Image\")\n",
    "ax1.set_xlabel(\"RA\")\n",
    "ax1.set_ylabel(\"Dec\")\n",
    "ax1.imshow(object_data, cmap=plt.cm.gray,\n",
    "           origin=\"lower\")\n",
    "\n",
    "ax2.set_xlabel(\"Image Pixel Values\")\n",
    "ax2.set_ylabel(\"Number of Pixels\")\n",
    "ax2.hist(object_data.flatten(),bins=100);"
   ]
  },
  {
   "cell_type": "code",
   "execution_count": null,
   "metadata": {
    "collapsed": false,
    "jupyter": {
     "outputs_hidden": false
    }
   },
   "outputs": [],
   "source": []
  }
 ],
 "metadata": {
  "anaconda-cloud": {},
  "kernelspec": {
   "display_name": "Python 3 (ipykernel)",
   "language": "python",
   "name": "python3"
  },
  "language_info": {
   "codemirror_mode": {
    "name": "ipython",
    "version": 3
   },
   "file_extension": ".py",
   "mimetype": "text/x-python",
   "name": "python",
   "nbconvert_exporter": "python",
   "pygments_lexer": "ipython3",
   "version": "3.9.7"
  }
 },
 "nbformat": 4,
 "nbformat_minor": 4
}
