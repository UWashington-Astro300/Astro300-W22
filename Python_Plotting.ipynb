{
 "cells": [
  {
   "cell_type": "markdown",
   "metadata": {},
   "source": [
    "# Plotting data with Python - `matplotlib`\n",
    "\n",
    "* Python has [LOTS](https://pyviz.org/overviews/index.html) of data visualization (plotting) libraries\n",
    "* Lots of them are built on top of `matplotlib`\n",
    "* `matplotlib` tries to make easy things easy and hard things possible"
   ]
  },
  {
   "cell_type": "code",
   "execution_count": null,
   "metadata": {
    "collapsed": false,
    "jupyter": {
     "outputs_hidden": false
    }
   },
   "outputs": [],
   "source": [
    "import matplotlib.pyplot as plt\n",
    "import numpy as np\n",
    "import pandas as pd\n",
    "from astropy.table import QTable"
   ]
  },
  {
   "cell_type": "markdown",
   "metadata": {},
   "source": [
    "### Simple Plotting\n",
    "\n",
    "$$\\large\n",
    "[\\ 0 < x < 3\\pi\\ ] \\hspace{1cm}\n",
    "y = e^{-x/3} \\cos(\\pi x)\n",
    "$$"
   ]
  },
  {
   "cell_type": "code",
   "execution_count": null,
   "metadata": {
    "collapsed": false,
    "jupyter": {
     "outputs_hidden": false
    }
   },
   "outputs": [],
   "source": [
    "my_x = np.linspace(0, 3*np.pi, 250)\n",
    "my_y = np.cos(np.pi*my_x) * np.exp(-my_x/3)"
   ]
  },
  {
   "cell_type": "code",
   "execution_count": null,
   "metadata": {},
   "outputs": [],
   "source": [
    "my_x[::20]"
   ]
  },
  {
   "cell_type": "code",
   "execution_count": null,
   "metadata": {},
   "outputs": [],
   "source": [
    "my_y[::20]"
   ]
  },
  {
   "cell_type": "code",
   "execution_count": null,
   "metadata": {
    "collapsed": false,
    "jupyter": {
     "outputs_hidden": false
    }
   },
   "outputs": [],
   "source": [
    "plt.plot(my_x, my_y)"
   ]
  },
  {
   "cell_type": "markdown",
   "metadata": {},
   "source": [
    "### Simple plotting - with *style*"
   ]
  },
  {
   "cell_type": "markdown",
   "metadata": {},
   "source": [
    "* The default style of `matplotlib` is a bit lacking in style.\n",
    "* The new version of `matplotlib` has added some new styles that you can use in place of the default.\n",
    "* Changing the style will effect all of the rest of the plots on the notebook.\n",
    "\n",
    "Examples of the various styles can be found [here](http://matplotlib.org/examples/style_sheets/style_sheets_reference.html)"
   ]
  },
  {
   "cell_type": "code",
   "execution_count": null,
   "metadata": {
    "collapsed": false,
    "jupyter": {
     "outputs_hidden": false
    }
   },
   "outputs": [],
   "source": [
    "plt.style.available"
   ]
  },
  {
   "cell_type": "code",
   "execution_count": null,
   "metadata": {
    "collapsed": false,
    "jupyter": {
     "outputs_hidden": false
    }
   },
   "outputs": [],
   "source": [
    "plt.style.use('ggplot')"
   ]
  },
  {
   "cell_type": "code",
   "execution_count": null,
   "metadata": {
    "collapsed": false,
    "jupyter": {
     "outputs_hidden": false
    }
   },
   "outputs": [],
   "source": [
    "plt.plot(my_x, my_y);"
   ]
  },
  {
   "cell_type": "markdown",
   "metadata": {},
   "source": [
    "Adding the'`;` at the end suppresses the `Out[]` line"
   ]
  },
  {
   "cell_type": "markdown",
   "metadata": {},
   "source": [
    "---\n",
    "\n",
    "# Better plotting\n",
    "\n",
    "* The simple plots: `plt.plot()` are great for a quick look at data, but it does not provide\n",
    "much control over the plot.\n",
    "* The `fig,ax` interface lets you control everything!"
   ]
  },
  {
   "cell_type": "code",
   "execution_count": null,
   "metadata": {
    "collapsed": false,
    "jupyter": {
     "outputs_hidden": false
    }
   },
   "outputs": [],
   "source": [
    "fig,ax = plt.subplots(1,1)                    # One window\n",
    "fig.set_size_inches(8,5)                      # (width,height)\n",
    "fig.tight_layout()                            # Make better use of space on plot\n",
    "\n",
    "ax.set_xlim(0.0, 6.0)\n",
    "ax.set_ylim(-1.5, 1.5)\n",
    "\n",
    "ax.set_xlabel('Time (s)')\n",
    "ax.set_ylabel('Voltage (mV)')\n",
    "ax.set_title('Circut Output')\n",
    "\n",
    "ax.plot(my_x, my_y);"
   ]
  },
  {
   "cell_type": "markdown",
   "metadata": {},
   "source": [
    "---\n",
    "\n",
    "#### Colors, Markers, and Linestyles"
   ]
  },
  {
   "cell_type": "raw",
   "metadata": {},
   "source": [
    "  color =               marker =                 linestyle =\n",
    "\n",
    "'b'     blue         's'        square          '-'   Solid line\n",
    "'g'     green        'o'        circle          '--'  Dashed\n",
    "'r'     red          '^'        triangle        ':'   Dotted\n",
    "'c'     cyan         '+'        plus            '-.'  Dash Dot\n",
    "'m'     magenta      '.'        dot\n",
    "'y'     yellow       '*'        star\n",
    "'k'     black        'D'        diamond         \n",
    "'w'     white        'x'        cross"
   ]
  },
  {
   "cell_type": "markdown",
   "metadata": {},
   "source": [
    "##### [Complete Marker List](https://matplotlib.org/api/markers_api.html)\n",
    "\n",
    "---\n",
    "\n",
    "### In addition, you can specify colors in many different ways:\n",
    "\n",
    "- Grayscale intensities: `color = '0.8'`\n",
    "- RGB triplets: `color = (0.3, 0.1, 0.9)`\n",
    "- RGB triplets (with transparency): `color = (0.3, 0.1, 0.9, 0.4)`\n",
    "- Hex strings: `color = '#7ff00'`\n",
    "- [HTML color names](https://en.wikipedia.org/wiki/Web_colors): `color = 'Chartreuse'`\n",
    "- a name from the [xkcd color survey](https://xkcd.com/color/rgb/): `color = 'xkcd:poison green'`)\n",
    "\n",
    "---"
   ]
  },
  {
   "cell_type": "markdown",
   "metadata": {},
   "source": [
    "### Font stuff (not all fonts/sizes have all properties)\n",
    "\n",
    "* `fontfamily` {FONTNAME, 'serif', 'sans-serif', 'monospace'}\n",
    "* `fontsize` {size in points, 'xx-small', 'x-small', 'small', 'medium', 'large', 'x-large', 'xx-large'}\n",
    "* `fontstyle` {'normal', 'italic', 'oblique'}\n",
    "* `fontweight` {a numeric value in range 0-1000, 'ultralight', 'light', 'normal', 'regular', 'book', 'medium', 'roman', 'semibold', 'demibold', 'demi', 'bold', 'heavy', 'extra bold', 'black'}\n",
    "\n",
    "---"
   ]
  },
  {
   "cell_type": "code",
   "execution_count": null,
   "metadata": {
    "collapsed": false,
    "jupyter": {
     "outputs_hidden": false
    }
   },
   "outputs": [],
   "source": [
    "fig,ax = plt.subplots(1,1)                    # One window\n",
    "fig.set_size_inches(8,5)                      # (width,height)\n",
    "fig.tight_layout()                            # Make better use of space on plot\n",
    "\n",
    "ax.set_xlim(0.0, 6.0)\n",
    "ax.set_ylim(-1.5, 1.5)\n",
    "\n",
    "ax.set_xlabel('Time (s)',\n",
    "              fontfamily = 'monospace',\n",
    "              fontsize = 18)\n",
    "\n",
    "ax.set_ylabel('Voltage (mV)',\n",
    "              fontfamily = 'serif',\n",
    "              fontstyle = 'italic',\n",
    "              fontsize = 18)\n",
    "\n",
    "ax.set_title('Circut Output', \n",
    "             fontsize = 24, \n",
    "             fontweight = 'bold')\n",
    "\n",
    "ax.plot(my_x, my_y,\n",
    "        color = 'MidnightBlue',\n",
    "        marker = 'None',\n",
    "        linestyle = '--');"
   ]
  },
  {
   "cell_type": "markdown",
   "metadata": {},
   "source": [
    "---\n",
    "\n",
    "## Histograms"
   ]
  },
  {
   "cell_type": "code",
   "execution_count": null,
   "metadata": {
    "collapsed": false,
    "jupyter": {
     "outputs_hidden": false
    }
   },
   "outputs": [],
   "source": [
    "grade_table = pd.read_csv('./Data/Grades.csv')"
   ]
  },
  {
   "cell_type": "code",
   "execution_count": null,
   "metadata": {
    "collapsed": false,
    "jupyter": {
     "outputs_hidden": false
    }
   },
   "outputs": [],
   "source": [
    "grade_table.head(3)"
   ]
  },
  {
   "cell_type": "code",
   "execution_count": null,
   "metadata": {
    "collapsed": false,
    "jupyter": {
     "outputs_hidden": false
    }
   },
   "outputs": [],
   "source": [
    "fig,ax = plt.subplots(1,1)                    # One window\n",
    "fig.set_size_inches(8,5)                      # (width,height)\n",
    "fig.tight_layout()                            # Make better use of space on plot\n",
    "\n",
    "ax.hist(grade_table['Exam1'],\n",
    "        bins = 30,\n",
    "        facecolor = 'MediumOrchid',\n",
    "        label = \"Exam 1\")\n",
    "\n",
    "ax.hist(grade_table['Exam2'],\n",
    "        bins = 30,\n",
    "        histtype = 'step',\n",
    "        color = 'MidnightBlue',\n",
    "        linewidth = 4,\n",
    "        label = \"Exam 2\")\n",
    "\n",
    "ax.legend(loc=0, shadow=True);"
   ]
  },
  {
   "cell_type": "raw",
   "metadata": {},
   "source": [
    "Legend loc codes:\n",
    "\n",
    "0   best                6   center left\n",
    "1   upper right         7   center right\n",
    "2   upper left          8   lower center\n",
    "3   lower left          9   upper center\n",
    "4   lower right         10  center"
   ]
  },
  {
   "cell_type": "markdown",
   "metadata": {},
   "source": [
    "### Side Topic - Histogram Bins\n",
    "\n",
    "* Plotting a histogram of two datasets with a differnt number of elements using the same bin number can lead to a misleading plot\n",
    "* You can fix this by defining your bins"
   ]
  },
  {
   "cell_type": "code",
   "execution_count": null,
   "metadata": {
    "collapsed": false,
    "jupyter": {
     "outputs_hidden": false
    }
   },
   "outputs": [],
   "source": [
    "# Create a sub-set of the data\n",
    "\n",
    "some_grades = (\n",
    "    grade_table\n",
    "    .query(\"Exam2 > 40\")\n",
    "    .query(\"Exam2 < 80\")\n",
    ")\n",
    "\n",
    "some_grades.head(2)"
   ]
  },
  {
   "cell_type": "code",
   "execution_count": null,
   "metadata": {},
   "outputs": [],
   "source": [
    "grade_table['Quarter'].count()"
   ]
  },
  {
   "cell_type": "code",
   "execution_count": null,
   "metadata": {},
   "outputs": [],
   "source": [
    "some_grades['Quarter'].count()"
   ]
  },
  {
   "cell_type": "code",
   "execution_count": null,
   "metadata": {
    "collapsed": false,
    "jupyter": {
     "outputs_hidden": false
    }
   },
   "outputs": [],
   "source": [
    "fig,ax = plt.subplots(1,1)                    # One window\n",
    "fig.set_size_inches(8,5)                      # (width,height)\n",
    "fig.tight_layout()                            # Make better use of space on plot\n",
    "\n",
    "ax.hist(grade_table['Exam2'],\n",
    "        bins = 30,\n",
    "        facecolor = 'MediumOrchid',\n",
    "        label = \"All Exams\")\n",
    "\n",
    "ax.hist(some_grades['Exam2'],\n",
    "        bins = 30,\n",
    "        histtype = 'step',\n",
    "        color = 'MidnightBlue',\n",
    "        linewidth = 4,\n",
    "        label = \"Score [40 - 80]\")\n",
    "\n",
    "ax.legend(loc=0, shadow=True);"
   ]
  },
  {
   "cell_type": "code",
   "execution_count": null,
   "metadata": {
    "collapsed": false,
    "jupyter": {
     "outputs_hidden": false
    }
   },
   "outputs": [],
   "source": [
    "my_bins = np.arange(18,95,2)\n",
    "my_bins"
   ]
  },
  {
   "cell_type": "code",
   "execution_count": null,
   "metadata": {
    "collapsed": false,
    "jupyter": {
     "outputs_hidden": false
    }
   },
   "outputs": [],
   "source": [
    "fig,ax = plt.subplots(1,1)                    # One window\n",
    "fig.set_size_inches(8,5)                      # (width,height)\n",
    "fig.tight_layout()                            # Make better use of space on plot\n",
    "\n",
    "ax.hist(grade_table['Exam2'],\n",
    "        bins = my_bins,\n",
    "        facecolor = 'MediumOrchid',\n",
    "        label = \"All Exams\")\n",
    "\n",
    "ax.hist(some_grades['Exam2'],\n",
    "        bins = my_bins,\n",
    "        histtype = 'step',\n",
    "        color = 'MidnightBlue',\n",
    "        linewidth = 4,\n",
    "        label = \"Score [40 - 80]\")\n",
    "\n",
    "ax.legend(loc=0, shadow=True);"
   ]
  },
  {
   "cell_type": "markdown",
   "metadata": {},
   "source": [
    "---\n",
    "\n",
    "## Adding text and lines\n",
    "\n",
    "* `.vlines(x, ymin, ymax)`\n",
    "* `.hlines(y, xmin, xmax)`\n",
    "* `.text(X, Y, 'text')`"
   ]
  },
  {
   "cell_type": "code",
   "execution_count": null,
   "metadata": {
    "collapsed": false,
    "jupyter": {
     "outputs_hidden": false
    }
   },
   "outputs": [],
   "source": [
    "my_average = grade_table['Exam2'].mean()\n",
    "my_std = grade_table['Exam2'].std()"
   ]
  },
  {
   "cell_type": "code",
   "execution_count": null,
   "metadata": {
    "collapsed": false,
    "jupyter": {
     "outputs_hidden": false
    }
   },
   "outputs": [],
   "source": [
    "my_average, my_std"
   ]
  },
  {
   "cell_type": "code",
   "execution_count": null,
   "metadata": {
    "collapsed": false,
    "jupyter": {
     "outputs_hidden": false
    }
   },
   "outputs": [],
   "source": [
    "fig,ax = plt.subplots(1,1)                    # One window\n",
    "fig.set_size_inches(8,5)                      # (width,height)\n",
    "fig.tight_layout()                            # Make better use of space on plot\n",
    "\n",
    "ax.hist(grade_table['Exam2'],\n",
    "        bins = my_bins,\n",
    "        facecolor = 'MediumOrchid')\n",
    "\n",
    "ax.vlines(my_average, 0, 28,\n",
    "          color = 'LawnGreen',\n",
    "          linewidth = 5,\n",
    "          linestyle = '-')\n",
    "\n",
    "ax.vlines(my_average + (1.5 * my_std), 0, 14,\n",
    "          color = 'Navy',\n",
    "          linewidth = 3,\n",
    "          linestyle = '--')\n",
    "\n",
    "ax.text(75, 8,\n",
    "       '1.5-Sigma',\n",
    "        color='HotPink',\n",
    "        fontsize = 24);"
   ]
  },
  {
   "cell_type": "markdown",
   "metadata": {},
   "source": [
    "----\n",
    "\n",
    "## Subplots\n",
    "- `subplot(rows,columns)`\n",
    "- Access each subplot like a matrix. `[x,y]`\n",
    "- Labels have to be added to each subplot separately\n",
    "- For example: `subplot(2,2)` makes four panels with the coordinates:"
   ]
  },
  {
   "cell_type": "raw",
   "metadata": {},
   "source": [
    " [0,0] [0,1]\n",
    " [1,0] [1,1]"
   ]
  },
  {
   "cell_type": "code",
   "execution_count": null,
   "metadata": {
    "collapsed": false,
    "jupyter": {
     "outputs_hidden": false
    }
   },
   "outputs": [],
   "source": [
    "fig, ax = plt.subplots(2,2)                # 2 rows 2 columns\n",
    "fig.set_size_inches(11,8.5)                # width, height\n",
    "\n",
    "# w_pad (width), h_pad (height) Extra space around subplots\n",
    "\n",
    "fig.tight_layout(w_pad=3.5, h_pad=3.5)\n",
    "\n",
    "# Plot at [0,0]\n",
    "\n",
    "ax[0,0].plot(my_x, my_y,\n",
    "             color = 'b',\n",
    "             marker = 'None',\n",
    "             linestyle = '--')\n",
    "\n",
    "ax[0,0].set_xlabel('Time (s)')\n",
    "ax[0,0].set_ylabel('Voltage (mV)')\n",
    "ax[0,0].set_title('Circut Output')\n",
    "\n",
    "# Plot at [0,1]\n",
    "\n",
    "ax[0,1].hist(grade_table['Exam2'],\n",
    "             bins = 30,\n",
    "             facecolor = 'MediumOrchid')\n",
    "\n",
    "ax[0,1].set_xlabel('Exam 2 Score')\n",
    "ax[0,1].set_ylabel('Number of Students')\n",
    "ax[0,1].set_title('Exam 2 Grades')\n",
    "\n",
    "# Plot at [1,0]\n",
    "\n",
    "ax[1,0].hist(grade_table['Exam2'],\n",
    "             bins = 30,\n",
    "             linewidth = 5,\n",
    "             histtype = 'step')\n",
    "\n",
    "ax[1,0].vlines(my_average, 0, 30.5,\n",
    "               color = 'LawnGreen',\n",
    "               linewidth = 5,\n",
    "               linestyle = '-')\n",
    "\n",
    "ax[1,0].set_title('Exam 2 Grades')\n",
    "ax[1,0].set_xlabel('Exam 2 Score')\n",
    "ax[1,0].set_ylabel('Number of Students')\n",
    "\n",
    "# Plot at [1,1] - x-axis set to log\n",
    "\n",
    "ax[1,1].set_xscale('log')\n",
    "\n",
    "ax[1,1].plot(my_x, my_y,\n",
    "             color = 'r',\n",
    "             marker = 'None',\n",
    "             linestyle = '--')\n",
    "\n",
    "ax[1,1].set_xlabel('Time (s)')\n",
    "ax[1,1].set_ylabel('Voltage (mV)')\n",
    "ax[1,1].set_title('Circut Output (log)');"
   ]
  },
  {
   "cell_type": "markdown",
   "metadata": {},
   "source": [
    "### Subplots with one row do not need a first index (`[0,0] -> [0]`)"
   ]
  },
  {
   "cell_type": "code",
   "execution_count": null,
   "metadata": {
    "collapsed": false,
    "jupyter": {
     "outputs_hidden": false
    }
   },
   "outputs": [],
   "source": [
    "fig, ax = plt.subplots(1,2)              # 1 row 2 columns\n",
    "fig.set_size_inches(11,4)                # width, height\n",
    "\n",
    "# A little extra width padding\n",
    "\n",
    "fig.tight_layout(w_pad = 15.0) # <- Made this large to show effect\n",
    "\n",
    "\n",
    "# Plot at [0]\n",
    "\n",
    "ax[0].plot(my_x, my_y,\n",
    "           color = 'b',\n",
    "           marker = 'None',\n",
    "           linestyle = '--')\n",
    "\n",
    "ax[0].set_xlabel('Time (s)')\n",
    "ax[0].set_ylabel('Voltage (mV)')\n",
    "ax[0].set_title('Circut Output')\n",
    "\n",
    "# Plot at [1]\n",
    "\n",
    "ax[1].hist(grade_table['Exam2'],\n",
    "           bins = 30,\n",
    "           facecolor = 'MediumOrchid')\n",
    "\n",
    "ax[1].set_title('Exam 2 Grades')\n",
    "ax[1].set_xlabel('Exam 2 Score')\n",
    "ax[1].set_ylabel('Number of Students');"
   ]
  },
  {
   "cell_type": "markdown",
   "metadata": {},
   "source": [
    "---\n",
    "## An Astronomical Example - Color Magnitude Diagram\n",
    "\n",
    "<img style=\"float: right;\" src=\"./images/M15_Image.jpg\" width=\"200\"/>\n",
    "\n",
    "M15 is a globular cluster in the constellation Pegasus. \n",
    "\n",
    "It is one of the most densely packed globulars known in the Milky Way galaxy, and at an estimated 12.5 billion years old, it is one of the oldest known globular clusters."
   ]
  },
  {
   "cell_type": "markdown",
   "metadata": {},
   "source": [
    "#### Read in table using `QTables`"
   ]
  },
  {
   "cell_type": "code",
   "execution_count": null,
   "metadata": {
    "collapsed": false,
    "jupyter": {
     "outputs_hidden": false
    }
   },
   "outputs": [],
   "source": [
    "star_table = QTable.read('./Data/M15_Bright.csv', format='ascii.csv')\n",
    "\n",
    "star_table[0:2]"
   ]
  },
  {
   "cell_type": "markdown",
   "metadata": {},
   "source": [
    "#### Create a `B-V` column"
   ]
  },
  {
   "cell_type": "code",
   "execution_count": null,
   "metadata": {
    "collapsed": false,
    "jupyter": {
     "outputs_hidden": false
    }
   },
   "outputs": [],
   "source": [
    "star_table['BV'] = star_table['Bmag'] - star_table['Vmag']"
   ]
  },
  {
   "cell_type": "code",
   "execution_count": null,
   "metadata": {
    "collapsed": false,
    "jupyter": {
     "outputs_hidden": false
    }
   },
   "outputs": [],
   "source": [
    "star_table[0:2]"
   ]
  },
  {
   "cell_type": "markdown",
   "metadata": {},
   "source": [
    "#### Create a subset of the data where `V < 16.25` and `B-V < 0.55`"
   ]
  },
  {
   "cell_type": "code",
   "execution_count": null,
   "metadata": {},
   "outputs": [],
   "source": [
    "red_clump = star_table[\n",
    "    (star_table['Vmag'] < 16.25) & \n",
    "    (star_table['BV'] < 0.55)\n",
    "]"
   ]
  },
  {
   "cell_type": "code",
   "execution_count": null,
   "metadata": {
    "collapsed": false,
    "jupyter": {
     "outputs_hidden": false
    }
   },
   "outputs": [],
   "source": [
    "red_clump[0:2]"
   ]
  },
  {
   "cell_type": "code",
   "execution_count": null,
   "metadata": {
    "collapsed": false,
    "jupyter": {
     "outputs_hidden": false
    }
   },
   "outputs": [],
   "source": [
    "fig, ax = plt.subplots(1,1)\n",
    "fig.set_size_inches(15,10)\n",
    "fig.tight_layout()\n",
    "\n",
    "ax.set_xlim(-0.25,1.5)\n",
    "ax.set_ylim(12,19)\n",
    "\n",
    "ax.set_aspect(1/6)         # Make 1 unit in X = 6 units in Y\n",
    "ax.invert_yaxis()          # Magnitudes increase to smaller values\n",
    "\n",
    "ax.set_xlabel(\"B-V color\")\n",
    "ax.set_ylabel(\"V mag\")\n",
    "ax.set_title(\"M15 CMD\")\n",
    "\n",
    "ax.plot(star_table['BV'],star_table['Vmag'],\n",
    "        color = \"SteelBlue\",\n",
    "        marker = \"o\",\n",
    "        linestyle = \"None\",\n",
    "        markersize = 5,\n",
    "        label = \"All Data\");\n",
    "\n",
    "ax.plot(red_clump['BV'],red_clump['Vmag'],\n",
    "        color = \"DeepPink\",\n",
    "        marker = \"*\",\n",
    "        linestyle = \"None\",\n",
    "        markersize = 10,\n",
    "        label = \"Red Clump\")\n",
    "\n",
    "ax.legend(loc=0, shadow=True);"
   ]
  },
  {
   "cell_type": "code",
   "execution_count": null,
   "metadata": {
    "collapsed": false,
    "jupyter": {
     "outputs_hidden": false
    }
   },
   "outputs": [],
   "source": [
    "fig.savefig('M15_CMD.png', bbox_inches='tight')"
   ]
  },
  {
   "cell_type": "markdown",
   "metadata": {},
   "source": [
    "---\n",
    "# Alternative Projections\n",
    "\n",
    "## Polar Plots (`r`, $\\theta$)"
   ]
  },
  {
   "cell_type": "code",
   "execution_count": null,
   "metadata": {
    "collapsed": false,
    "jupyter": {
     "outputs_hidden": false
    }
   },
   "outputs": [],
   "source": [
    "my_theta = np.linspace(0, 2*np.pi, 1000)"
   ]
  },
  {
   "cell_type": "markdown",
   "metadata": {},
   "source": [
    "#### The axis (`ax`) command is different for alternative projections:"
   ]
  },
  {
   "cell_type": "code",
   "execution_count": null,
   "metadata": {
    "collapsed": false,
    "jupyter": {
     "outputs_hidden": false
    }
   },
   "outputs": [],
   "source": [
    "fig = plt.figure()\n",
    "ax = fig.add_subplot(111, projection='polar')\n",
    "\n",
    "fig.set_size_inches(6,6)\n",
    "fig.tight_layout()\n",
    "\n",
    "my_r = my_theta\n",
    "\n",
    "ax.plot(my_r, my_theta/15.0,\n",
    "        label=\"spiral\")\n",
    "\n",
    "ax.plot(my_r, np.cos(8*my_theta),\n",
    "        label=\"flower\")\n",
    "\n",
    "ax.legend(loc=0, shadow=True);"
   ]
  },
  {
   "cell_type": "markdown",
   "metadata": {},
   "source": [
    "## 3D plots `(X,Y,Z)`"
   ]
  },
  {
   "cell_type": "code",
   "execution_count": null,
   "metadata": {
    "collapsed": false,
    "jupyter": {
     "outputs_hidden": false
    }
   },
   "outputs": [],
   "source": [
    "from mpl_toolkits.mplot3d import Axes3D"
   ]
  },
  {
   "cell_type": "code",
   "execution_count": null,
   "metadata": {
    "collapsed": false,
    "jupyter": {
     "outputs_hidden": false
    }
   },
   "outputs": [],
   "source": [
    "fig = plt.figure()\n",
    "ax = fig.add_subplot(111,projection='3d')\n",
    "\n",
    "fig.set_size_inches(9,9)\n",
    "fig.tight_layout()\n",
    "\n",
    "ax.set_xlabel('This is X')\n",
    "ax.set_ylabel('This is Y')\n",
    "ax.set_zlabel('This is Z')\n",
    "\n",
    "my_x = my_theta\n",
    "my_y = np.cos(3 * my_theta)\n",
    "my_z = np.sin(2 * my_theta)\n",
    "\n",
    "ax.plot(my_x, my_y, my_z,\n",
    "        color = 'Firebrick',\n",
    "        marker = 'None',\n",
    "        linestyle = '--');\n",
    "\n",
    "ax.view_init(azim = 30, elev = 40)"
   ]
  },
  {
   "cell_type": "markdown",
   "metadata": {},
   "source": [
    "---\n",
    "## Tons of examples of `matplotlib` plots can be found [here](https://matplotlib.org/stable/gallery/index.html)"
   ]
  },
  {
   "cell_type": "markdown",
   "metadata": {},
   "source": [
    "---\n",
    "# Plotting data with Python - `Seaborn`\n",
    "\n",
    "* `Seaborn` is a library for making statistical graphics in Python\n",
    "* `Seaborn` is tightly intergrated with the `pandas` library\n",
    "* [Seaborn Tutorial](https://seaborn.pydata.org/tutorial.html)"
   ]
  },
  {
   "cell_type": "code",
   "execution_count": null,
   "metadata": {
    "collapsed": false,
    "jupyter": {
     "outputs_hidden": false
    }
   },
   "outputs": [],
   "source": [
    "import seaborn as sns"
   ]
  },
  {
   "cell_type": "markdown",
   "metadata": {},
   "source": [
    "### `relplot()` =  relationship plot"
   ]
  },
  {
   "cell_type": "code",
   "execution_count": null,
   "metadata": {},
   "outputs": [],
   "source": [
    "grade_table.head(3)"
   ]
  },
  {
   "cell_type": "code",
   "execution_count": null,
   "metadata": {
    "collapsed": false,
    "jupyter": {
     "outputs_hidden": false
    }
   },
   "outputs": [],
   "source": [
    "sns.relplot(x=\"Exam1\", y=\"Exam2\",\n",
    "            data = grade_table,\n",
    "            height = 8);"
   ]
  },
  {
   "cell_type": "code",
   "execution_count": null,
   "metadata": {
    "collapsed": false,
    "jupyter": {
     "outputs_hidden": false
    }
   },
   "outputs": [],
   "source": [
    "sns.relplot(x=\"Exam1\", y=\"Exam2\",\n",
    "            data = grade_table,\n",
    "            height = 8,\n",
    "            hue = \"Quarter\");"
   ]
  },
  {
   "cell_type": "code",
   "execution_count": null,
   "metadata": {
    "collapsed": false,
    "jupyter": {
     "outputs_hidden": false
    }
   },
   "outputs": [],
   "source": [
    "sns.relplot(x=\"Exam1\", y=\"Exam2\",\n",
    "            data = grade_table,\n",
    "            height = 8,\n",
    "            hue = \"Quarter\",\n",
    "            style = \"Quarter\");"
   ]
  },
  {
   "cell_type": "markdown",
   "metadata": {},
   "source": [
    "### `catplot()` =  category plot"
   ]
  },
  {
   "cell_type": "code",
   "execution_count": null,
   "metadata": {
    "collapsed": false,
    "jupyter": {
     "outputs_hidden": false
    }
   },
   "outputs": [],
   "source": [
    "sns.catplot(x=\"Quarter\", y=\"Exam2\",\n",
    "            data=grade_table,\n",
    "            height = 8,\n",
    "            kind='swarm');"
   ]
  },
  {
   "cell_type": "code",
   "execution_count": null,
   "metadata": {
    "collapsed": false,
    "jupyter": {
     "outputs_hidden": false
    }
   },
   "outputs": [],
   "source": [
    "sns.catplot(x=\"Quarter\", y=\"Exam2\",\n",
    "            data=grade_table,\n",
    "            height = 8,\n",
    "            kind='box');"
   ]
  },
  {
   "cell_type": "code",
   "execution_count": null,
   "metadata": {
    "collapsed": false,
    "jupyter": {
     "outputs_hidden": false
    }
   },
   "outputs": [],
   "source": [
    "sns.catplot(x=\"Quarter\", y=\"Exam2\",\n",
    "            data=grade_table,\n",
    "            height = 8,\n",
    "            kind='boxen');"
   ]
  },
  {
   "cell_type": "code",
   "execution_count": null,
   "metadata": {
    "collapsed": false,
    "jupyter": {
     "outputs_hidden": false
    }
   },
   "outputs": [],
   "source": [
    "sns.catplot(x=\"Quarter\", y=\"Exam2\",\n",
    "            data=grade_table,\n",
    "            height = 8,\n",
    "            kind='violin');"
   ]
  },
  {
   "cell_type": "markdown",
   "metadata": {
    "jupyter": {
     "outputs_hidden": false
    }
   },
   "source": [
    "----\n",
    "\n",
    "## All of the matplotlib plots can be made interactive. See the **bonus lecture** on the class Canvas page for instructions."
   ]
  }
 ],
 "metadata": {
  "anaconda-cloud": {},
  "kernelspec": {
   "display_name": "Python 3 (ipykernel)",
   "language": "python",
   "name": "python3"
  },
  "language_info": {
   "codemirror_mode": {
    "name": "ipython",
    "version": 3
   },
   "file_extension": ".py",
   "mimetype": "text/x-python",
   "name": "python",
   "nbconvert_exporter": "python",
   "pygments_lexer": "ipython3",
   "version": "3.9.7"
  }
 },
 "nbformat": 4,
 "nbformat_minor": 4
}
