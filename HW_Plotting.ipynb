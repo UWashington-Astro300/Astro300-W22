{
 "cells": [
  {
   "cell_type": "markdown",
   "metadata": {},
   "source": [
    "## Plotting Asteroids"
   ]
  },
  {
   "cell_type": "code",
   "execution_count": null,
   "metadata": {},
   "outputs": [],
   "source": [
    "import matplotlib.pyplot as plt\n",
    "\n",
    "import numpy as np\n",
    "from astropy.table import QTable"
   ]
  },
  {
   "cell_type": "markdown",
   "metadata": {},
   "source": [
    "#### The file `./Data/SDSS_MainBelt.csv` contains data on objects in the asteroid belt collected by the [Sloan Digital Sky Survey](http://www.sdss.org/).\n",
    "\n",
    "The columns are:\n",
    "- **`Name`** - Object name\n",
    "- **`semi_major`** - semi-major axis\n",
    "- **`a_color`** - SDSS a$^*$ color\n",
    "- **`i_color`** - SDSS i color (near infrared)\n",
    "- **`z_color`** - SDSS z color (infrared)"
   ]
  },
  {
   "cell_type": "markdown",
   "metadata": {},
   "source": [
    "## Read in the file `./Data/SDSS_MainBelt.csv` as a `QTable`"
   ]
  },
  {
   "cell_type": "code",
   "execution_count": null,
   "metadata": {},
   "outputs": [],
   "source": []
  },
  {
   "cell_type": "markdown",
   "metadata": {},
   "source": [
    "### Create a subset of the data called `main_belt` that only includes asteroids where:\n",
    "\n",
    "* #### 2.0 AU < `semi_major` < 3.6 AU"
   ]
  },
  {
   "cell_type": "code",
   "execution_count": null,
   "metadata": {},
   "outputs": [],
   "source": []
  },
  {
   "cell_type": "markdown",
   "metadata": {},
   "source": [
    "## The Color of the Asteroids\n",
    "- Make three (3) plots in one row\n",
    "- In each panel, plot a histogram of the semi-major axis (`semi_major`) for **ALL** of the asteroids in `main_belt`.\n",
    "- Bins = 100.\n",
    "- In the first panel, overplot a histogram of `semi_major` for **C-Type** asteroids only.\n",
    "- In the second panel, overplot a histogram of `semi_major` for **S-Type** asteroids only.\n",
    "- In the third panel, overplot a histogram of `semi_major` for **V-Type** asteroids only.\n",
    "- In each panel, draw a vertical line at `semi_major` = mean(`semi_major`) for **that type** of asteroid.\n",
    "- Adjust the `color` and `histtype` to make the overplot easy to see.\n",
    "- The asteroid types can be determined from their SDSS-colors (see image below).\n",
    "- Output size width : 15 inches, height : 5 inches\n",
    "- Make the plot look nice (including clear labels)"
   ]
  },
  {
   "cell_type": "code",
   "execution_count": null,
   "metadata": {
    "collapsed": false,
    "jupyter": {
     "outputs_hidden": false
    }
   },
   "outputs": [],
   "source": []
  },
  {
   "cell_type": "code",
   "execution_count": null,
   "metadata": {
    "collapsed": false,
    "jupyter": {
     "outputs_hidden": false
    }
   },
   "outputs": [],
   "source": []
  },
  {
   "cell_type": "code",
   "execution_count": null,
   "metadata": {
    "collapsed": false,
    "jupyter": {
     "outputs_hidden": false
    }
   },
   "outputs": [],
   "source": []
  },
  {
   "cell_type": "code",
   "execution_count": null,
   "metadata": {},
   "outputs": [],
   "source": []
  },
  {
   "cell_type": "markdown",
   "metadata": {},
   "source": [
    "---\n",
    "\n",
    "### Asteroid classes - SDSS Colors\n",
    "\n",
    "---\n",
    "\n",
    "<center><img src=\"images/Colors.jpg\" width=600px></center>"
   ]
  },
  {
   "cell_type": "markdown",
   "metadata": {},
   "source": [
    "### Due Wed Feb 9 - 1 pm\n",
    "- `File -> Download as -> HTML (.html)`\n",
    "- `upload your .html file to the class Canvas page`"
   ]
  },
  {
   "cell_type": "code",
   "execution_count": null,
   "metadata": {},
   "outputs": [],
   "source": []
  }
 ],
 "metadata": {
  "anaconda-cloud": {},
  "kernelspec": {
   "display_name": "Python 3 (ipykernel)",
   "language": "python",
   "name": "python3"
  },
  "language_info": {
   "codemirror_mode": {
    "name": "ipython",
    "version": 3
   },
   "file_extension": ".py",
   "mimetype": "text/x-python",
   "name": "python",
   "nbconvert_exporter": "python",
   "pygments_lexer": "ipython3",
   "version": "3.9.7"
  }
 },
 "nbformat": 4,
 "nbformat_minor": 4
}
