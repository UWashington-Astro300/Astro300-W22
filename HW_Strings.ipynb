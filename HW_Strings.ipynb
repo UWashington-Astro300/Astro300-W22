{
 "cells": [
  {
   "cell_type": "markdown",
   "metadata": {},
   "source": [
    "# Strings Homework\n",
    "\n",
    "* Start with the ReadingData homework from last week\n",
    "* Format the output to match the examples below.\n",
    "* The numbers should be expressed to 2 decimals."
   ]
  },
  {
   "cell_type": "markdown",
   "metadata": {},
   "source": [
    "## List the 5 most massive MBAs\n",
    "\n",
    "\n",
    "```\n",
    "The 5 largest asteroids are (starting with the largest):\n",
    "At number N is NAME with a mass of MASS kg\n",
    ".\n",
    ".\n",
    "At number N is NAME with a mass of MASS kg\n",
    "\n",
    "Example: At number 1 is 1 Ceres with a mass of 1.35e+21 kg\n",
    "\n",
    "```\n",
    "\n",
    "#### Make sure the values of N are *SEQUENTIAL* and start at 1 `(1 ... 5)`"
   ]
  },
  {
   "cell_type": "markdown",
   "metadata": {},
   "source": [
    "---\n",
    "\n",
    "## List the 5 least massive MBAs\n",
    "\n",
    "\n",
    "```\n",
    "The 5 smallest asteroids are (starting with the smallest):\n",
    "At number N is NAME with a mass of MASS kg\n",
    ".\n",
    ".\n",
    "At number N is NAME with a mass of MASS kg\n",
    "\n",
    "Example: At number 2026 is 26604 (2000 FO25) with a mass of 2.70e+14 kg\n",
    "\n",
    "```\n",
    "\n",
    "#### Make sure the values of N are *SEQUENTIAL* and end at 2026 `(2022 ... 2026)`"
   ]
  },
  {
   "cell_type": "markdown",
   "metadata": {},
   "source": [
    "---\n",
    "\n",
    "## And finally the summary paragraph:\n",
    "\n",
    "```\n",
    "The total mass of the main belt of the asteroid belt is MASS kg, of which N% of\n",
    "the total mass in contained in the five most massive asteroids. The Moon is N times\n",
    "more massive than the total mass of the main belt asteroids.\n",
    "```\n",
    "\n",
    "### Replace the CAP values with data. **DO NOT HARDCODE** - use variables."
   ]
  },
  {
   "cell_type": "markdown",
   "metadata": {},
   "source": [
    "---\n",
    "\n",
    "### Due Wed Jan 26 - 1pm\n",
    "- `You do not need to rename your Reading Data homework`\n",
    "- `Save notebook as .html: File -> Download as -> HTML (.html)`\n",
    "- `Upload .html to Canvas -> Strings assignment`"
   ]
  },
  {
   "cell_type": "code",
   "execution_count": null,
   "metadata": {
    "collapsed": false,
    "jupyter": {
     "outputs_hidden": false
    }
   },
   "outputs": [],
   "source": []
  }
 ],
 "metadata": {
  "kernelspec": {
   "display_name": "Python 3 (ipykernel)",
   "language": "python",
   "name": "python3"
  },
  "language_info": {
   "codemirror_mode": {
    "name": "ipython",
    "version": 3
   },
   "file_extension": ".py",
   "mimetype": "text/x-python",
   "name": "python",
   "nbconvert_exporter": "python",
   "pygments_lexer": "ipython3",
   "version": "3.9.7"
  }
 },
 "nbformat": 4,
 "nbformat_minor": 4
}
