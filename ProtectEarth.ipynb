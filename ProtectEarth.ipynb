{
 "cells": [
  {
   "cell_type": "markdown",
   "metadata": {},
   "source": [
    "# Protect Earth!\n",
    "\n",
    "<img style=\"float: right;\" src=\"./images/Asteroids.gif\" width=\"300\"/>\n",
    "\n",
    "* Earth is in danger!\n",
    "* Potentially Hazardous Asteroids (PHAs) are going to hit the Earth!\n",
    "* You have been recruited to use your python skills to help save the Earth!\n",
    "* All equations at bottom of notebook\n",
    "  * [Astropy Units](http://docs.astropy.org/en/stable/units/index.html#module-astropy.units.si) - [Astropy Constants](https://docs.astropy.org/en/stable/constants/#module-astropy.constants) - [Numpy Math Functions](https://docs.scipy.org/doc/numpy-1.13.0/reference/routines.math.html)"
   ]
  },
  {
   "cell_type": "code",
   "execution_count": null,
   "metadata": {
    "collapsed": false,
    "jupyter": {
     "outputs_hidden": false
    }
   },
   "outputs": [],
   "source": [
    "import numpy as np\n",
    "\n",
    "from astropy import units as u\n",
    "from astropy import constants as const\n",
    "from astropy.table import QTable"
   ]
  },
  {
   "cell_type": "markdown",
   "metadata": {},
   "source": [
    "## Read in the dataset `./Data/PHA_W22.csv` into a Astropy `QTable`"
   ]
  },
  {
   "cell_type": "code",
   "execution_count": null,
   "metadata": {
    "collapsed": false,
    "jupyter": {
     "outputs_hidden": false
    }
   },
   "outputs": [],
   "source": []
  },
  {
   "cell_type": "markdown",
   "metadata": {},
   "source": [
    "## Assign units to the columns that need them"
   ]
  },
  {
   "cell_type": "code",
   "execution_count": null,
   "metadata": {
    "collapsed": false,
    "jupyter": {
     "outputs_hidden": false
    }
   },
   "outputs": [],
   "source": []
  },
  {
   "cell_type": "markdown",
   "metadata": {},
   "source": [
    "---\n",
    "\n",
    "## Determine how many nuclear weapons, each with a yield of 1 ton-TNT, will be needed to destroy each of the PHAs.\n",
    "\n",
    "* Write the function `number_weapons`\n",
    "* Each weapon delivers 1 ton-TNT energy (1 ton-TNT $= 4.18 \\times 10^9$ J)\n",
    "* Round `Number_Weapons` up to the nearest integer - check out `np.ceil()`\n",
    "* `Number_Weapons` has no units, just the number of weapons\n",
    "* Add a column `Number_Weapons` to the table"
   ]
  },
  {
   "cell_type": "markdown",
   "metadata": {},
   "source": [
    "---\n",
    "\n",
    "`number_weapons`"
   ]
  },
  {
   "cell_type": "code",
   "execution_count": null,
   "metadata": {
    "collapsed": false,
    "jupyter": {
     "outputs_hidden": false
    }
   },
   "outputs": [],
   "source": [
    "# Write a function\n"
   ]
  },
  {
   "cell_type": "code",
   "execution_count": null,
   "metadata": {
    "collapsed": false,
    "jupyter": {
     "outputs_hidden": false
    }
   },
   "outputs": [],
   "source": [
    "# Apply the function\n"
   ]
  },
  {
   "cell_type": "code",
   "execution_count": null,
   "metadata": {
    "collapsed": false,
    "jupyter": {
     "outputs_hidden": false
    }
   },
   "outputs": [],
   "source": [
    "# Add the data column to the table\n"
   ]
  },
  {
   "cell_type": "markdown",
   "metadata": {},
   "source": [
    "---"
   ]
  },
  {
   "cell_type": "markdown",
   "metadata": {},
   "source": [
    "# Hitting Earth\n",
    "\n",
    "<img style=\"float: right;\" src=\"./images/GlaDos2.gif\" width=\"300\"/>\n",
    "\n",
    "* You failed to destroy all the asteroids!\n",
    "* [But there's no sense crying over every mistake](https://www.youtube.com/watch?v=Y6ljFaKRTrI)\n",
    "* There is still science to be done!"
   ]
  },
  {
   "cell_type": "markdown",
   "metadata": {},
   "source": [
    "---\n",
    "\n",
    "## Determine the orbital speed of each of the PHAs at **r** = 1 AU.\n",
    "\n",
    "* Write a function: `find_orbital_speed`\n",
    "* Make sure you use units.\n",
    "* Express your answer [SI](https://en.wikipedia.org/wiki/International_System_of_Units) units.\n",
    "* Add a column `Orbital_Speed` to the table."
   ]
  },
  {
   "cell_type": "code",
   "execution_count": null,
   "metadata": {
    "collapsed": false,
    "jupyter": {
     "outputs_hidden": false
    }
   },
   "outputs": [],
   "source": [
    "# Write Function\n"
   ]
  },
  {
   "cell_type": "code",
   "execution_count": null,
   "metadata": {
    "collapsed": false,
    "jupyter": {
     "outputs_hidden": false
    }
   },
   "outputs": [],
   "source": [
    "# Use Function\n"
   ]
  },
  {
   "cell_type": "code",
   "execution_count": null,
   "metadata": {
    "collapsed": false,
    "jupyter": {
     "outputs_hidden": false
    }
   },
   "outputs": [],
   "source": [
    "# Add column\n"
   ]
  },
  {
   "cell_type": "markdown",
   "metadata": {},
   "source": [
    "---\n",
    "\n",
    "## Determine the encounter speed of each of the PHAs.\n",
    "\n",
    "* Write a function: `find_encounter_speed`\n",
    "* Make sure you use units.\n",
    "* Express your answer [SI](https://en.wikipedia.org/wiki/International_System_of_Units) units.\n",
    "* Add a column `Encounter_Speed` to the table.\n",
    "* The `Encounter_Speed` may be negative."
   ]
  },
  {
   "cell_type": "code",
   "execution_count": null,
   "metadata": {
    "collapsed": false,
    "jupyter": {
     "outputs_hidden": false
    }
   },
   "outputs": [],
   "source": [
    "# Write Function\n"
   ]
  },
  {
   "cell_type": "code",
   "execution_count": null,
   "metadata": {
    "collapsed": false,
    "jupyter": {
     "outputs_hidden": false
    }
   },
   "outputs": [],
   "source": [
    "# Use Function\n"
   ]
  },
  {
   "cell_type": "code",
   "execution_count": null,
   "metadata": {
    "collapsed": false,
    "jupyter": {
     "outputs_hidden": false
    }
   },
   "outputs": [],
   "source": [
    "# Add column\n"
   ]
  },
  {
   "cell_type": "markdown",
   "metadata": {},
   "source": [
    "---\n",
    "\n",
    "## Determine the impact speed of each of the PHAs.\n",
    "\n",
    "* Write a function: `find_impact_speed`\n",
    "* Make sure you use units.\n",
    "* Express your answer [SI](https://en.wikipedia.org/wiki/International_System_of_Units) units.\n",
    "* Add a column `Impact_Speed` to the table."
   ]
  },
  {
   "cell_type": "code",
   "execution_count": null,
   "metadata": {
    "collapsed": false,
    "jupyter": {
     "outputs_hidden": false
    }
   },
   "outputs": [],
   "source": [
    "# Write Function\n"
   ]
  },
  {
   "cell_type": "code",
   "execution_count": null,
   "metadata": {
    "collapsed": false,
    "jupyter": {
     "outputs_hidden": false
    }
   },
   "outputs": [],
   "source": [
    "# Use Function\n"
   ]
  },
  {
   "cell_type": "code",
   "execution_count": null,
   "metadata": {
    "collapsed": false,
    "jupyter": {
     "outputs_hidden": false
    }
   },
   "outputs": [],
   "source": [
    "# Add column\n"
   ]
  },
  {
   "cell_type": "markdown",
   "metadata": {},
   "source": [
    "---\n",
    "\n",
    "## Determine the kinetic energy each PHA would have if they impacted the surface of the Earth.\n",
    "\n",
    "* Write a function: `find_impact_ke`\n",
    "* Make sure you use units.\n",
    "* Express your answer [SI](https://en.wikipedia.org/wiki/International_System_of_Units) units.\n",
    "* Add a column `Impact_KE` to the table."
   ]
  },
  {
   "cell_type": "code",
   "execution_count": null,
   "metadata": {
    "collapsed": false,
    "jupyter": {
     "outputs_hidden": false
    }
   },
   "outputs": [],
   "source": [
    "# Write Function\n"
   ]
  },
  {
   "cell_type": "code",
   "execution_count": null,
   "metadata": {
    "collapsed": false,
    "jupyter": {
     "outputs_hidden": false
    }
   },
   "outputs": [],
   "source": [
    "# Use Function\n"
   ]
  },
  {
   "cell_type": "code",
   "execution_count": null,
   "metadata": {
    "collapsed": false,
    "jupyter": {
     "outputs_hidden": false
    }
   },
   "outputs": [],
   "source": [
    "# Add column\n"
   ]
  },
  {
   "cell_type": "markdown",
   "metadata": {},
   "source": [
    "---\n",
    "\n",
    "## Determine the Richter magnitude each PHA's impact.\n",
    "\n",
    "* Write a function: `find_impact_mag`\n",
    "* Richter magnitude is dimentionless\n",
    "* Add a column `Impact_Mag` to the table."
   ]
  },
  {
   "cell_type": "code",
   "execution_count": null,
   "metadata": {
    "collapsed": false,
    "jupyter": {
     "outputs_hidden": false
    }
   },
   "outputs": [],
   "source": [
    "# Write Function\n"
   ]
  },
  {
   "cell_type": "code",
   "execution_count": null,
   "metadata": {
    "collapsed": false,
    "jupyter": {
     "outputs_hidden": false
    }
   },
   "outputs": [],
   "source": [
    "# Use Function\n"
   ]
  },
  {
   "cell_type": "code",
   "execution_count": null,
   "metadata": {
    "collapsed": false,
    "jupyter": {
     "outputs_hidden": false
    }
   },
   "outputs": [],
   "source": [
    "# Add column\n"
   ]
  },
  {
   "cell_type": "markdown",
   "metadata": {},
   "source": [
    "---\n",
    "\n",
    "<img style=\"float: right;\" src=\"./images/WA_Size.jpg\" width=\"300\"/>\n",
    "\n",
    "## Determine how far away you would have to be from the impact so that M < 4.0.\n",
    "\n",
    "* Write a function: `find_safe_distance`\n",
    "* Make sure you use units.\n",
    "* Washington State is about 560 km wide\n",
    "* Express your answer in Washington State Widths (wsw)\n",
    "* Add a column `Safe Distance` to the table."
   ]
  },
  {
   "cell_type": "code",
   "execution_count": null,
   "metadata": {
    "collapsed": false,
    "jupyter": {
     "outputs_hidden": false
    }
   },
   "outputs": [],
   "source": [
    "# Write Function\n"
   ]
  },
  {
   "cell_type": "code",
   "execution_count": null,
   "metadata": {
    "collapsed": false,
    "jupyter": {
     "outputs_hidden": false
    }
   },
   "outputs": [],
   "source": [
    "# Use Function\n"
   ]
  },
  {
   "cell_type": "code",
   "execution_count": null,
   "metadata": {
    "collapsed": false,
    "jupyter": {
     "outputs_hidden": false
    }
   },
   "outputs": [],
   "source": [
    "# Add column\n"
   ]
  },
  {
   "cell_type": "markdown",
   "metadata": {},
   "source": [
    "---"
   ]
  },
  {
   "cell_type": "markdown",
   "metadata": {},
   "source": [
    "## Publish your final report paragraph \n",
    "\n",
    "* Replace the CAPITALIZED values with the real data\n",
    "* DO NOT HARDCODE VALUES - use `datatable['column']` variables.\n",
    "* All values to 2 decimals\n",
    "* Pay attention to the units requested\n",
    "* Careful - impact tons of TNT is NOT the same as the number of weapons!\n",
    "* The test is over now. You win. Go back to the recovery annex. For your cake.\n",
    "\n",
    "<img style=\"float: right;\" src=\"./images/Cake.gif\" width=\"300\"/>"
   ]
  },
  {
   "cell_type": "markdown",
   "metadata": {},
   "source": [
    "---\n",
    "\n",
    "```\n",
    "The 4th largest asteroid, NAME, with a diameter of DIAMETER hit the Earth!\n",
    "\n",
    "NAME encountered the Earth at ENCOUNTER_SPEED km/s, and impacted the Earth with a velocity of IMPACT_VELOCITY km/s.\n",
    "It releasing IMPACT_ENERGY J of energy (equivalent to NUMBER tons-of-tnt). The impact of NAME caused a local seismic \n",
    "event of IMPACT_MAG on the Richter scale. All structures within SAFE_DISTANCE wsw were destroyed.\n",
    "```"
   ]
  },
  {
   "cell_type": "code",
   "execution_count": null,
   "metadata": {},
   "outputs": [],
   "source": []
  },
  {
   "cell_type": "code",
   "execution_count": null,
   "metadata": {},
   "outputs": [],
   "source": []
  },
  {
   "cell_type": "markdown",
   "metadata": {},
   "source": [
    "---\n",
    "## Blowing up an asteroid\n",
    "\n",
    "The self gravitational potential energy of a uniform sphere of mass (M) and diameter (D) is:\n",
    "\n",
    "$$ \\large\n",
    "PE \\ = \\ \\frac{6}{5} \\cdot \\frac{GM^2}{D}\n",
    "$$\n",
    "\n",
    "This is the amount of energy you need to give the sphere to move all of its components pieces infinitely far away (i.e. to destroy it!)."
   ]
  },
  {
   "cell_type": "markdown",
   "metadata": {},
   "source": [
    "---\n",
    "\n",
    "## Orbital Speed\n",
    "\n",
    "The speed of an object on an elliptical orbit around the Sun with semi-major axis = **a** at a distance **r** is:\n",
    "\n",
    "$$ \\large\n",
    "v^{2}\\ =\\ {GM_{\\odot}\\ \\left(\\ \\frac{2}{r} - \\frac{1}{a}\\ \\right)}\n",
    "$$\n",
    "\n",
    "Watch your units! Both **r** and **a** should have the same type of unit\n",
    "\n",
    "The orbital speed of objects at 1 AU should be of the same order as the orbital speed of the Earth \n",
    "\n",
    "---\n",
    "\n",
    "## Encountering the Earth\n",
    "\n",
    "The encounter speed of an asteroid meeting the Earth at 1 AU is (assuimg aligned prograde orbits):\n",
    "\n",
    "$$ \\large\n",
    "V_{\\textrm{encounter}}\\ =\\ V_{\\textrm{asteroid at 1AU}}\\ -\\ V_{\\textrm{Earth}}\n",
    "$$\n",
    "\n",
    "Where $V_{\\textrm{Earth}}\\ =\\ 29.78\\ \\textrm{km/s}$\n",
    "\n",
    "The encounter speed may be negative\n",
    "\n",
    "---\n",
    "\n",
    "## Hitting the Earth\n",
    "\n",
    "The impact speed of an asteroid hitting the Earth is:\n",
    "\n",
    "$$ \\large\n",
    "V_{\\textrm{impact}}^{2}\\ =\\ {V_{\\textrm{encounter}}^2 + V_{\\textrm{escape}}^2}\n",
    "$$\n",
    "\n",
    "Where $V_{\\textrm{escape}}\\ = 11.19\\ \\textrm{km/s}$\n",
    "\n",
    "---\n",
    "\n",
    "## Earthquake Intensity\n",
    "\n",
    "The intensity of earthquakes are classically expressed on the [Richter magnitude scale](https://en.wikipedia.org/wiki/Richter_magnitude_scale). The Richter magnitude (**M**) of an impact can be calculated from the kinetic energy of the impactor by:\n",
    "\n",
    "$$ \\large\n",
    "\\mathrm{M} \\ = \\ 0.67\\ \\log_{10} \n",
    "\\left( \\frac{\\mathrm{Impactor\\_KE}}{\\mathrm{1\\ Joule}} \\right) − 5.87\n",
    "$$\n",
    "\n",
    "The effective Richter magnitude (M$_{\\mathrm{eff}}$) is the Richter magnitude at a distance **r** away from the impact and can be calculated by:\n",
    "\n",
    "$$ \\large\n",
    "\\mathrm{M_{eff}} \\ = \\ \\mathrm{M} − 0.0048\\ \\left( \\frac{\\mathrm{r}}{\\mathrm{1\\ km}} \\right) - 1.1644\n",
    "$$\n"
   ]
  },
  {
   "cell_type": "markdown",
   "metadata": {},
   "source": [
    "---\n",
    "\n",
    "## Due Friday Feb 04 (5pm)\n",
    "\n",
    " * **Note** : This assignment has a shorter turn around time!\n",
    " * `File -> Download as... -> HTML`\n",
    " * `Upload HTML file to Canvas`\n",
    " \n",
    "Unlike other assignments I will not send back comments before the due date. I will grade the latest version of what you turned in on Friday at 5pm. Make sure read all of the instructions in the assignments, especially the one about the expected output units!"
   ]
  }
 ],
 "metadata": {
  "kernelspec": {
   "display_name": "Python 3 (ipykernel)",
   "language": "python",
   "name": "python3"
  },
  "language_info": {
   "codemirror_mode": {
    "name": "ipython",
    "version": 3
   },
   "file_extension": ".py",
   "mimetype": "text/x-python",
   "name": "python",
   "nbconvert_exporter": "python",
   "pygments_lexer": "ipython3",
   "version": "3.9.7"
  }
 },
 "nbformat": 4,
 "nbformat_minor": 4
}
